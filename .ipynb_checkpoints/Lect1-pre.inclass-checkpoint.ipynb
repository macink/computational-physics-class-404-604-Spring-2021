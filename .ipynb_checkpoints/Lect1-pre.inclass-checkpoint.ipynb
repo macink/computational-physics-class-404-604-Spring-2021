{
 "cells": [
  {
   "cell_type": "markdown",
   "metadata": {},
   "source": [
    "# Physics 404/604\n",
    "\n",
    "## Computational Physics (Spring 2021)\n",
    "\n",
    "## Online\n",
    "\n",
    "| Instructor | Prof. Zhaohuan Zhu                 |\n",
    "| ---------- | :--------------------------------- |\n",
    "| Email      | zhaohuan.zhu@unlv.edu              |\n",
    "| Website    | http://www.physics.unlv.edu/~zhzhu |\n",
    "| Office     | BPB 245                            |\n",
    "\n",
    "\n",
    "\n",
    "# 1 Python Basics\n",
    "## 1.1 Python Installation\n",
    "\n",
    "## Conda (a little bit old, see README of the course)\n",
    "The best way set-up an scientific Python environment is to use the cross-platform package manager conda from Continuum Analytics. First download and install Anaconda https://www.anaconda.com/download/#macos (download Mac or Windows version depending on your operation system). Next, to install the required libraries for these notebooks, simply run following at your anaconda terminal :\n",
    "\n",
    "\t$ conda install jupyter spyder numpy scipy sympy matplotlib cython \n",
    "    \n",
    "To install vpython:  \n",
    "Fllow https://vpython.org/presentation2018/install.html\n",
    "In a Power Shell or Command Prompt (Windows) or Terminal (Mac / Linux) run this command, which will install VPython 7 for Python 2.7, 3.4, 3.5, or 3.6:   \n",
    "\n",
    "    $ pip install vpython  \n",
    "    \n",
    "  Or if using Anaconda, conda install -c vpython vpython   (For Python 3.7, you need to use pip install vpython)\n",
    "    \n",
    "After you installed jupyter, you could run it from the anaconda terminal \n",
    "\n",
    "    $ jupyter notebook\n",
    "    \n",
    "Then you can type python command and save it to your notebook\n",
    "\n",
    "## Viewing Jupyter notebook\n",
    "Sometimes the equations cannot be displayed correctly using the web browser. You can use nbview to get a better display for equations.\n",
    "https://nbviewer.jupyter.org/\n",
    "\n",
    "## Running Jupyter notebook online\n",
    "If you use the department computers, this may work \n",
    "(Please test this)\n",
    "https://jupyter.org/try"
   ]
  },
  {
   "cell_type": "code",
   "execution_count": null,
   "metadata": {},
   "outputs": [],
   "source": [
    "#get started\n",
    "print(\"Welcome to Physics 404/604\")"
   ]
  },
  {
   "cell_type": "markdown",
   "metadata": {},
   "source": [
    "## 1.2 Variables \n",
    "  The Rules\n",
    "  * Variables names must start with a letter or an underscore, such as:  \n",
    "    \\_underscore  \n",
    "    underscore\\_  \n",
    "  * The remainder of your variable name may consist of letters, numbers and underscores.  \n",
    "    password1  \n",
    "    n00b  \n",
    "    un_der_scores  \n",
    "  * Names are case sensitive.  \n",
    "    case_sensitive, CASE_SENSITIVE, and Case_Sensitive are each a different variable.  \n",
    "\n",
    "By convention, variable names start with a lower-case letter, and Class names start with a capital letter.  \n",
    "  In addition, there are a number of Python keywords that cannot be used as variable names.   \n",
    "  e.g. False, except, if, and, as, assert, print......  "
   ]
  },
  {
   "cell_type": "code",
   "execution_count": 5,
   "metadata": {},
   "outputs": [],
   "source": [
    "# variable assignments with =\n",
    "# different from C/fortran, no need to specify the type of a varialbe, dynamically typed language\n",
    "\n",
    "x=1.0"
   ]
  },
  {
   "cell_type": "code",
   "execution_count": 6,
   "metadata": {},
   "outputs": [
    {
     "name": "stdout",
     "output_type": "stream",
     "text": [
      "1.0 <class 'float'>\n"
     ]
    }
   ],
   "source": [
    "print(x, type(x))"
   ]
  },
  {
   "cell_type": "code",
   "execution_count": null,
   "metadata": {},
   "outputs": [],
   "source": [
    "# In-Class Questions, which ones are valid\n",
    "_velocity=1\n",
    "1stvelocity=1\n",
    "vel1st=1\n",
    "_vel_1st=1\n",
    "vel#2=1\n",
    "vel)=1\n",
    "Name_Student=\"Joe\"\n",
    "_Name~student=\"Bob\""
   ]
  },
  {
   "cell_type": "markdown",
   "metadata": {},
   "source": [
    "Data Types  \n",
    "    Python has 5 data types  \n",
    "    * Numbers\n",
    "    * String\n",
    "    * List\n",
    "    * Tuple\n",
    "    * Dictionary\n"
   ]
  },
  {
   "cell_type": "code",
   "execution_count": 3,
   "metadata": {},
   "outputs": [],
   "source": [
    "# Numbers:\n",
    "# integers\n",
    "# float\n",
    "# bollean\n",
    "# complex\n",
    "a = 3\n",
    "b = 3.0\n",
    "c = True\n",
    "d = 3.+3.j"
   ]
  },
  {
   "cell_type": "code",
   "execution_count": 4,
   "metadata": {},
   "outputs": [
    {
     "name": "stdout",
     "output_type": "stream",
     "text": [
      "3 <class 'int'>\n",
      "3.0 <class 'float'>\n",
      "True <class 'bool'>\n",
      "(3+3j) <class 'complex'>\n"
     ]
    }
   ],
   "source": [
    "print(a, type(a))\n",
    "print(b, type(b))\n",
    "print(c, type(c))\n",
    "print(d, type(d))"
   ]
  },
  {
   "cell_type": "code",
   "execution_count": 5,
   "metadata": {},
   "outputs": [
    {
     "name": "stdout",
     "output_type": "stream",
     "text": [
      "welcome <class 'str'>\n"
     ]
    }
   ],
   "source": [
    "# String\n",
    "a = \"welcome\"\n",
    "print(a, type(a))\n"
   ]
  },
  {
   "cell_type": "code",
   "execution_count": 7,
   "metadata": {},
   "outputs": [
    {
     "name": "stdout",
     "output_type": "stream",
     "text": [
      "list index 2 = 3.4\n",
      "list index -1 =  4.5\n",
      "list index 2 to the end =  [3.4, 4.5]\n",
      "list index 0 to 2 =  [1, 'Hello', 3.4]\n"
     ]
    }
   ],
   "source": [
    "# List:\n",
    "# empty list\n",
    "my_list = []\n",
    "\n",
    "# list of integers\n",
    "my_list = [1, 2, 3]\n",
    "\n",
    "# list with mixed datatypes\n",
    "my_list = [1, \"Hello\", 3.4, 4.5]\n",
    "\n",
    "# access list through index, the index starts with 0\n",
    "print(\"list index 2 =\",my_list[2])\n",
    "\n",
    "# the index can be negative\n",
    "print(\"list index -1 = \",my_list[-1])\n",
    "\n",
    "# or you can select several elements in the list using colon\n",
    "print(\"list index 2 to the end = \",my_list[2:])\n",
    "print(\"list index 0 to 2 = \",my_list[0:3]) # note that 0:3 only select 0,1,2 index"
   ]
  },
  {
   "cell_type": "code",
   "execution_count": 8,
   "metadata": {},
   "outputs": [
    {
     "name": "stdout",
     "output_type": "stream",
     "text": [
      "[1, 2, 3, 4, 5]\n"
     ]
    }
   ],
   "source": [
    "# List are mutable, unlike string and tuple\n",
    "array=[1,3,2,5,5]\n",
    "\n",
    "# change the forth element\n",
    "array[3]=4\n",
    "\n",
    "# change the second and third elements\n",
    "array[1:3]=[2,3] # notice that 1:3 selects index 1,2\n",
    "\n",
    "print(array)"
   ]
  },
  {
   "cell_type": "code",
   "execution_count": 9,
   "metadata": {},
   "outputs": [
    {
     "name": "stdout",
     "output_type": "stream",
     "text": [
      "[1, 2, 3, 4, 5, 6]\n",
      "[2, 3, 4, 5, 6]\n"
     ]
    }
   ],
   "source": [
    "# add and delete element\n",
    "array.append(6)\n",
    "print(array)\n",
    "del array[0]\n",
    "print (array)"
   ]
  },
  {
   "cell_type": "code",
   "execution_count": 12,
   "metadata": {},
   "outputs": [
    {
     "name": "stdout",
     "output_type": "stream",
     "text": [
      "0 1 2 3 4 5 6 7 8 9\n",
      "-3 -1 1 3 5 7\n",
      "[1, 2, 4, 8, 16, 32, 64, 128, 256, 512]\n"
     ]
    }
   ],
   "source": [
    "# Ways to create a list\n",
    "index=range(10) # 9 numbers from 0 to 9\n",
    "index2=range(-3,9,2)\n",
    "print(*index)# * means unpack the sequence\n",
    "print(*index2)\n",
    "\n",
    "#Fancy way to create a list: List Comprehension\n",
    "pow2 = [2 ** x for x in range(10)]\n",
    "print(pow2)\n"
   ]
  },
  {
   "cell_type": "markdown",
   "metadata": {},
   "source": [
    " Dictionary: a collection of data e.g. this={\"brand\": \"Ford\", \"year\": 1964}\n",
    "\n",
    "Dictionaries and lists share the following characteristics:\n",
    "\n",
    "    Both are mutable.\n",
    "    Both are dynamic. They can grow and shrink as needed.\n",
    "    Both can be nested. A list can contain another list. A dictionary can contain another dictionary. A dictionary can also contain a list, and vice versa.\n",
    "\n",
    "Dictionaries differ from lists primarily in how elements are accessed:\n",
    "\n",
    "    List elements are accessed by their position in the list, via indexing. (e.g. a[0])\n",
    "    Dictionary elements are accessed via keys (e.g. this[\"brand\"]).\n"
   ]
  },
  {
   "cell_type": "code",
   "execution_count": 4,
   "metadata": {},
   "outputs": [
    {
     "name": "stdout",
     "output_type": "stream",
     "text": [
      "Mustang\n",
      "{'brand': 'Ford', 'model': 'Mustang', 'year': 2018}\n",
      "brand Ford\n",
      "model Mustang\n",
      "year 2018\n"
     ]
    }
   ],
   "source": [
    "thisdict ={\n",
    "  \"brand\": \"Ford\",\n",
    "  \"model\": \"Mustang\",\n",
    "  \"year\": 1970\n",
    "}\n",
    "\n",
    "# access and change dictionary \n",
    "x = thisdict[\"model\"]\n",
    "print(x)\n",
    "thisdict[\"year\"] = 2018\n",
    "print(thisdict)\n",
    "\n",
    "# loop through the dictionary\n",
    "for x in thisdict: # x is the key\n",
    "  print(x,thisdict[x]) \n",
    "\n",
    "# try it: change the year to an array [1964, 2020]\n"
   ]
  },
  {
   "cell_type": "code",
   "execution_count": 3,
   "metadata": {},
   "outputs": [
    {
     "name": "stdout",
     "output_type": "stream",
     "text": [
      "{'brand': 'Ford', 'model': 'Mustang', 'year': [1964, 2020]}\n"
     ]
    }
   ],
   "source": [
    "thisdict[\"year\"] = [1964,2020]\n",
    "print(thisdict)"
   ]
  },
  {
   "cell_type": "code",
   "execution_count": 13,
   "metadata": {},
   "outputs": [
    {
     "name": "stdout",
     "output_type": "stream",
     "text": [
      "<class 'numpy.ndarray'>\n",
      "(2, 3)\n",
      "6.0\n",
      "[-1.00000000e+00 -9.00000000e-01 -8.00000000e-01 -7.00000000e-01\n",
      " -6.00000000e-01 -5.00000000e-01 -4.00000000e-01 -3.00000000e-01\n",
      " -2.00000000e-01 -1.00000000e-01 -2.22044605e-16  1.00000000e-01\n",
      "  2.00000000e-01  3.00000000e-01  4.00000000e-01  5.00000000e-01\n",
      "  6.00000000e-01  7.00000000e-01  8.00000000e-01  9.00000000e-01\n",
      "  1.00000000e+00  1.10000000e+00  1.20000000e+00  1.30000000e+00\n",
      "  1.40000000e+00  1.50000000e+00  1.60000000e+00  1.70000000e+00\n",
      "  1.80000000e+00  1.90000000e+00  2.00000000e+00  2.10000000e+00\n",
      "  2.20000000e+00  2.30000000e+00  2.40000000e+00  2.50000000e+00\n",
      "  2.60000000e+00  2.70000000e+00  2.80000000e+00  2.90000000e+00\n",
      "  3.00000000e+00  3.10000000e+00  3.20000000e+00  3.30000000e+00\n",
      "  3.40000000e+00  3.50000000e+00  3.60000000e+00  3.70000000e+00\n",
      "  3.80000000e+00  3.90000000e+00  4.00000000e+00  4.10000000e+00\n",
      "  4.20000000e+00  4.30000000e+00  4.40000000e+00  4.50000000e+00\n",
      "  4.60000000e+00  4.70000000e+00  4.80000000e+00  4.90000000e+00]\n",
      "[1 2 3 4 5 6 7 8 9]\n"
     ]
    }
   ],
   "source": [
    "# A lot of times, list are used as arrays. But it is more convenient to use Numpy library to generate/operate arrays\n",
    "\n",
    "import numpy as np\n",
    "a=np.array([1,2,3])\n",
    "b=np.array([[1.,2.,3.],[4.,5.,6.]])\n",
    "c=np.arange(-1.,5.,0.1) # number starting at -1, with interval 0.1, ending at 5.0, do not include 0.1\n",
    "d=np.arange(1,10) # 9 numbers\n",
    "\n",
    "print(type(a))\n",
    "print(b.shape)\n",
    "print(b[1,2]) #second row, third coloumn\n",
    "print(c)\n",
    "print(d)"
   ]
  },
  {
   "cell_type": "markdown",
   "metadata": {},
   "source": [
    "##  1.3 Operators and comparisons\n",
    "Normal definition:\n",
    "\n",
    "Arithmetic operators +, -, $*$, /, % (modulus), // (floor division), $**$ (power)"
   ]
  },
  {
   "cell_type": "code",
   "execution_count": 3,
   "metadata": {},
   "outputs": [
    {
     "name": "stdout",
     "output_type": "stream",
     "text": [
      "x + y = 17\n",
      "x - y = 11\n",
      "x * y = 42\n",
      "x / y = 4.666666666666667\n",
      "x // y = 4\n",
      "x % y = 2\n",
      "x ** y = 2744\n"
     ]
    }
   ],
   "source": [
    "x = 14\n",
    "y = 3\n",
    "\n",
    "# Output: x + y = 17\n",
    "print('x + y =',x+y)\n",
    "\n",
    "# Output: x - y = 11\n",
    "print('x - y =',x-y)\n",
    "\n",
    "# Output: x * y = 42\n",
    "print('x * y =',x*y)\n",
    "\n",
    "# Output: x / y = 4.67\n",
    "print('x / y =',x/y) # automatically convert it to float\n",
    "\n",
    "# Output: x // y = 4 \n",
    "# division into integer adjusted to the left in the number line, note negative number)\n",
    "print('x // y =',x//y)\n",
    "\n",
    "# Output: x % y = 4 \n",
    "# modulus (work for both integer and float)\n",
    "print('x % y =',x%y)\n",
    "\n",
    "# Output: x ** y = 2744\n",
    "print('x ** y =',x**y)"
   ]
  },
  {
   "cell_type": "code",
   "execution_count": 15,
   "metadata": {},
   "outputs": [
    {
     "name": "stdout",
     "output_type": "stream",
     "text": [
      "x > y  is False\n",
      "x < y  is True\n",
      "x == y is False\n",
      "x != y is True\n",
      "x >= y is False\n",
      "x <= y is True\n"
     ]
    }
   ],
   "source": [
    "# Comparison operators\n",
    "\n",
    "x = 10\n",
    "y = 12\n",
    "\n",
    "# Output: x > y is False\n",
    "print('x > y  is',x>y)\n",
    "\n",
    "# Output: x < y is True\n",
    "print('x < y  is',x<y)\n",
    "\n",
    "# Output: x == y is False\n",
    "print('x == y is',x==y)\n",
    "\n",
    "# Output: x != y is True\n",
    "print('x != y is',x!=y)\n",
    "\n",
    "# Output: x >= y is False\n",
    "print('x >= y is',x>=y)\n",
    "\n",
    "# Output: x <= y is True\n",
    "print('x <= y is',x<=y)"
   ]
  },
  {
   "cell_type": "code",
   "execution_count": 13,
   "metadata": {},
   "outputs": [
    {
     "name": "stdout",
     "output_type": "stream",
     "text": [
      "x and y is False\n",
      "x or y is True\n",
      "not x is False\n"
     ]
    }
   ],
   "source": [
    "# Logical operators\n",
    "\n",
    "x = True\n",
    "y = False\n",
    "\n",
    "# Output: x and y is False\n",
    "print('x and y is',x and y)\n",
    "\n",
    "# Output: x or y is True\n",
    "print('x or y is',x or y)\n",
    "\n",
    "# Output: not x is False\n",
    "print('not x is',not x)"
   ]
  },
  {
   "cell_type": "code",
   "execution_count": 14,
   "metadata": {},
   "outputs": [
    {
     "name": "stdout",
     "output_type": "stream",
     "text": [
      "True\n",
      "False\n"
     ]
    }
   ],
   "source": [
    "# membership operators: in, not in\n",
    "a=[1,2,3,4]\n",
    "print(1 in a)\n",
    "print(1 not in a)"
   ]
  },
  {
   "cell_type": "markdown",
   "metadata": {},
   "source": [
    "## 1.4 If-else and Indentation\n",
    "\n",
    "One of the most distinctive features of Python is its use of indentation to mark blocks of code.\n",
    "\n",
    "The colon (:) is significant and required. It separates the header of the compound statement from the body.\n",
    "The line after the colon must be indented. It is standard in Python to use four spaces for indenting."
   ]
  },
  {
   "cell_type": "code",
   "execution_count": null,
   "metadata": {},
   "outputs": [],
   "source": [
    "pwd='apple'\n",
    "if pwd == 'apple':\n",
    "    print('Logging on ...')\n",
    "else:\n",
    "    print('Incorrect password.')\n",
    "    print('Try again') # multiple lines in one block of code need to have the same indentation\n",
    "\n",
    "print('All done!')"
   ]
  },
  {
   "cell_type": "markdown",
   "metadata": {},
   "source": [
    "## 1.5 Loop\n",
    "\n",
    "For loop and While loop"
   ]
  },
  {
   "cell_type": "code",
   "execution_count": 4,
   "metadata": {},
   "outputs": [
    {
     "name": "stdout",
     "output_type": "stream",
     "text": [
      "Apple\n",
      "Asus\n",
      "Dell\n",
      "Samsung\n"
     ]
    }
   ],
   "source": [
    "# For loop\n",
    "#The for loop that is used to iterate over elements of a sequence, it is often \n",
    "#used when you have a piece of code which you want to repeat \"n\" number of time. \n",
    "\n",
    "#It works like this: \" for all elements in a list, do this \"\n",
    "\n",
    "computer_brands = [\"Apple\", \"Asus\", \"Dell\", \"Samsung\"]\n",
    "for brands in computer_brands:\n",
    "    print(brands)  # need indentation to show it is within for block"
   ]
  },
  {
   "cell_type": "code",
   "execution_count": 7,
   "metadata": {},
   "outputs": [
    {
     "name": "stdout",
     "output_type": "stream",
     "text": [
      "0\n",
      "2\n",
      "4\n",
      "6\n",
      "8\n",
      "10\n",
      "12\n",
      "14\n",
      "16\n",
      "18\n",
      "0.1\n",
      "0.2\n",
      "0.30000000000000004\n",
      "0.4\n",
      "0.5\n",
      "0.6\n",
      "0.7000000000000001\n",
      "0.8\n",
      "0.9\n",
      "1.0\n",
      "2.0\n",
      "3.0\n",
      "4.0\n",
      "5.0\n",
      "6.0\n",
      "7.0\n",
      "8.0\n",
      "9.0\n",
      "10.0\n",
      "11.0\n",
      "12.0\n",
      "13.0\n",
      "14.0\n",
      "15.0\n",
      "16.0\n",
      "17.0\n",
      "18.0\n",
      "19.0\n",
      "20.0\n",
      "21.0\n",
      "22.0\n",
      "23.0\n",
      "24.0\n",
      "25.0\n",
      "26.0\n",
      "27.0\n",
      "28.0\n",
      "29.0\n",
      "30.0\n",
      "31.0\n",
      "32.0\n",
      "33.0\n",
      "34.0\n",
      "35.0\n",
      "36.0\n",
      "37.0\n",
      "38.0\n",
      "39.0\n",
      "40.0\n",
      "41.0\n",
      "42.0\n",
      "43.0\n",
      "44.0\n",
      "45.0\n",
      "46.0\n",
      "47.0\n",
      "48.0\n",
      "49.0\n",
      "50.0\n",
      "51.0\n",
      "52.0\n",
      "53.0\n",
      "54.0\n",
      "55.0\n",
      "56.0\n",
      "57.0\n",
      "58.0\n",
      "59.0\n",
      "60.0\n",
      "61.0\n",
      "62.0\n",
      "63.0\n",
      "64.0\n",
      "65.0\n",
      "66.0\n",
      "67.0\n",
      "68.0\n",
      "69.0\n",
      "70.0\n",
      "71.0\n",
      "72.0\n",
      "73.0\n",
      "74.0\n",
      "75.0\n",
      "76.0\n",
      "77.0\n",
      "78.0\n",
      "79.0\n",
      "80.0\n",
      "81.0\n",
      "82.0\n",
      "83.0\n",
      "84.0\n",
      "85.0\n",
      "86.0\n",
      "87.0\n",
      "88.0\n",
      "89.0\n",
      "90.0\n",
      "91.0\n",
      "92.0\n",
      "93.0\n",
      "94.0\n",
      "95.0\n",
      "96.0\n",
      "97.0\n",
      "98.0\n",
      "99.0\n",
      "100.0\n",
      "9.33262154439441e+157\n"
     ]
    }
   ],
   "source": [
    "# to loop through integers\n",
    "for i in range(10):\n",
    "    c=2*i\n",
    "    print(c)\n",
    "    \n",
    "# to loop through arrays\n",
    "import numpy as np\n",
    "for a in np.arange(0.1,1.0,0.1):\n",
    "    print(a)\n",
    "    \n",
    "# try this, calculate 1+2+3....+100\n"
   ]
  },
  {
   "cell_type": "code",
   "execution_count": 14,
   "metadata": {},
   "outputs": [
    {
     "name": "stdout",
     "output_type": "stream",
     "text": [
      "196\n",
      "196\n",
      "5050\n",
      "93326215443944152681699238856266700490715968264381621468592963895217599993229915608941463976156518286253697920827223758251185210916864000000000000000000000000\n",
      "9.33262154439441e+157\n",
      "9.33262154439441e+157\n"
     ]
    }
   ],
   "source": [
    "for i in range(99):\n",
    "    c = i+i\n",
    "print(c)\n",
    "\n",
    "for i in range(99):\n",
    "    i+= i\n",
    "    d= i\n",
    "print(d)\n",
    "#right way\n",
    "b=0\n",
    "for i in range(101):\n",
    "    b+=i\n",
    "print(b)\n",
    "#or\n",
    "import numpy as np\n",
    "a = 1\n",
    "for i in range(1,101):\n",
    "    a = a*i\n",
    "print(a)\n",
    "\n",
    "e = 1.\n",
    "for i in np.arange(1.,101.):\n",
    "    e=e*i\n",
    "print(e)\n",
    "\n",
    "f = 1.\n",
    "for i in range(1,101):\n",
    "    f = f*i\n",
    "print(f)"
   ]
  },
  {
   "cell_type": "markdown",
   "metadata": {},
   "source": [
    "Sometimes if you have an array and you want to loop through the array to get both the index and element of the array, you can use ** enumerate** function.\n",
    "\n",
    "Enumerate() method adds a counter to an iterable and returns it in a form of enumerate object. This enumerate object can then be used directly in for loops"
   ]
  },
  {
   "cell_type": "code",
   "execution_count": 24,
   "metadata": {},
   "outputs": [
    {
     "name": "stdout",
     "output_type": "stream",
     "text": [
      "Return type: <class 'enumerate'>\n",
      "[(0, 'eat'), (1, 'sleep'), (2, 'repeat')]\n"
     ]
    }
   ],
   "source": [
    "l1 = [\"eat\",\"sleep\",\"repeat\"] \n",
    "  \n",
    "# creating enumerate objects \n",
    "obj1 = enumerate(l1) \n",
    "\n",
    "print(\"Return type:\",type(obj1) )\n",
    "print(list(enumerate(l1)) )\n"
   ]
  },
  {
   "cell_type": "code",
   "execution_count": 16,
   "metadata": {},
   "outputs": [
    {
     "name": "stdout",
     "output_type": "stream",
     "text": [
      "List index-value are : \n",
      "0 1 2\n",
      "1 4 8\n",
      "2 5 9\n",
      "3 6 10\n",
      "4 7 11\n",
      "or equivalently...\n",
      "0 1 2\n",
      "1 4 8\n",
      "2 5 9\n",
      "3 6 10\n",
      "4 7 11\n"
     ]
    }
   ],
   "source": [
    "# initializing list \n",
    "list1 = [1, 4, 5, 6, 7] \n",
    "list2 = [2, 8, 9, 10, 11]\n",
    "# using enumerate to \n",
    "# get index and value .\n",
    "print (\"List index-value are : \") \n",
    "for index, value in enumerate(list1): \n",
    "    print(index, value, list2[index]) # This saves writing \"list1[index]\" every time.\n",
    "print('or equivalently...')\n",
    "for index in range(5):\n",
    "    print(index,list1[index],list2[index])"
   ]
  },
  {
   "cell_type": "markdown",
   "metadata": {},
   "source": [
    "## 1.6 Open and Read Files\n"
   ]
  },
  {
   "cell_type": "code",
   "execution_count": 24,
   "metadata": {},
   "outputs": [
    {
     "name": "stdout",
     "output_type": "stream",
     "text": [
      "# Athena++ data at time=6.280000e+03  cycle=-460660288  variables=prim \n",
      "\n",
      "0000  8.61138e-05  2.41795e-03  2.09521e-02  3.39121e-06  6.36773e-07  0.00000e+00\n",
      "\n",
      "0000  8.61138e-05  2.41795e-03  2.09521e-02  3.39121e-06  6.36773e-07  0.00000e+00\n",
      "['0000', '8.61138e-05', '2.41795e-03', '2.09521e-02', '3.39121e-06', '6.36773e-07', '0.00000e+00']\n",
      "0001  9.55903e-05  1.80512e-03  2.09522e-02  3.23886e-06  8.23178e-07  0.00000e+00\n",
      "\n",
      "0001  9.55903e-05  1.80512e-03  2.09522e-02  3.23886e-06  8.23178e-07  0.00000e+00\n",
      "['0001', '9.55903e-05', '1.80512e-03', '2.09522e-02', '3.23886e-06', '8.23178e-07', '0.00000e+00']\n",
      "0002  1.04687e-04  1.80512e-03  2.09522e-02 -3.23886e-06  8.23178e-07  0.00000e+00\n",
      "\n",
      "0002  1.04687e-04  1.80512e-03  2.09522e-02 -3.23886e-06  8.23178e-07  0.00000e+00\n",
      "['0002', '1.04687e-04', '1.80512e-03', '2.09522e-02', '-3.23886e-06', '8.23178e-07', '0.00000e+00']\n",
      "0003  1.14222e-04  2.41795e-03  2.09521e-02 -3.39121e-06  6.36773e-07  0.00000e+00\n",
      "\n",
      "0003  1.14222e-04  2.41795e-03  2.09521e-02 -3.39121e-06  6.36773e-07  0.00000e+00\n",
      "['0003', '1.14222e-04', '2.41795e-03', '2.09521e-02', '-3.39121e-06', '6.36773e-07', '0.00000e+00']\n",
      "0004  1.24623e-04  3.36926e-03  2.09515e-02 -6.44113e-06  4.56261e-07  0.00000e+00\n",
      "\n",
      "0004  1.24623e-04  3.36926e-03  2.09515e-02 -6.44113e-06  4.56261e-07  0.00000e+00\n",
      "['0004', '1.24623e-04', '3.36926e-03', '2.09515e-02', '-6.44113e-06', '4.56261e-07', '0.00000e+00']\n",
      "0005  1.35971e-04  4.36526e-03  2.09496e-02 -8.11307e-06  3.27421e-07  0.00000e+00\n",
      "\n",
      "0005  1.35971e-04  4.36526e-03  2.09496e-02 -8.11307e-06  3.27421e-07  0.00000e+00\n",
      "['0005', '1.35971e-04', '4.36526e-03', '2.09496e-02', '-8.11307e-06', '3.27421e-07', '0.00000e+00']\n",
      "0006  1.48349e-04  5.23475e-03  2.09458e-02 -9.40731e-06  2.41329e-07  0.00000e+00\n",
      "\n",
      "0006  1.48349e-04  5.23475e-03  2.09458e-02 -9.40731e-06  2.41329e-07  0.00000e+00\n",
      "['0006', '1.48349e-04', '5.23475e-03', '2.09458e-02', '-9.40731e-06', '2.41329e-07', '0.00000e+00']\n",
      "0007  1.61853e-04  5.93542e-03  2.09390e-02 -9.79297e-06  1.83645e-07  0.00000e+00\n",
      "\n",
      "0007  1.61853e-04  5.93542e-03  2.09390e-02 -9.79297e-06  1.83645e-07  0.00000e+00\n",
      "['0007', '1.61853e-04', '5.93542e-03', '2.09390e-02', '-9.79297e-06', '1.83645e-07', '0.00000e+00']\n",
      "0008  1.76585e-04  6.50366e-03  2.09287e-02 -9.57103e-06  1.43876e-07  0.00000e+00\n",
      "\n",
      "0008  1.76585e-04  6.50366e-03  2.09287e-02 -9.57103e-06  1.43876e-07  0.00000e+00\n",
      "['0008', '1.76585e-04', '6.50366e-03', '2.09287e-02', '-9.57103e-06', '1.43876e-07', '0.00000e+00']\n",
      "0009  1.92655e-04  7.00216e-03  2.09141e-02 -8.83531e-06  1.15374e-07  0.00000e+00\n",
      "\n",
      "0009  1.92655e-04  7.00216e-03  2.09141e-02 -8.83531e-06  1.15374e-07  0.00000e+00\n",
      "['0009', '1.92655e-04', '7.00216e-03', '2.09141e-02', '-8.83531e-06', '1.15374e-07', '0.00000e+00']\n",
      "0010  2.10187e-04  7.49259e-03  2.08948e-02 -7.98048e-06  9.40885e-08  0.00000e+00\n",
      "\n",
      "0010  2.10187e-04  7.49259e-03  2.08948e-02 -7.98048e-06  9.40885e-08  0.00000e+00\n",
      "['0010', '2.10187e-04', '7.49259e-03', '2.08948e-02', '-7.98048e-06', '9.40885e-08', '0.00000e+00']\n",
      "0011  2.29312e-04  8.03007e-03  2.08704e-02 -6.98186e-06  7.75646e-08  0.00000e+00\n",
      "\n",
      "0011  2.29312e-04  8.03007e-03  2.08704e-02 -6.98186e-06  7.75646e-08  0.00000e+00\n",
      "['0011', '2.29312e-04', '8.03007e-03', '2.08704e-02', '-6.98186e-06', '7.75646e-08', '0.00000e+00']\n",
      "0012  2.50175e-04  8.66386e-03  2.08405e-02 -5.99754e-06  6.43064e-08  0.00000e+00\n",
      "\n",
      "0012  2.50175e-04  8.66386e-03  2.08405e-02 -5.99754e-06  6.43064e-08  0.00000e+00\n",
      "['0012', '2.50175e-04', '8.66386e-03', '2.08405e-02', '-5.99754e-06', '6.43064e-08', '0.00000e+00']\n",
      "0013  2.72935e-04  9.43940e-03  2.08048e-02 -5.11016e-06  5.33964e-08  0.00000e+00\n",
      "\n",
      "0013  2.72935e-04  9.43940e-03  2.08048e-02 -5.11016e-06  5.33964e-08  0.00000e+00\n",
      "['0013', '2.72935e-04', '9.43940e-03', '2.08048e-02', '-5.11016e-06', '5.33964e-08', '0.00000e+00']\n",
      "0014  2.97764e-04  1.04002e-02  2.07629e-02 -4.37748e-06  4.42667e-08  0.00000e+00\n",
      "\n",
      "0014  2.97764e-04  1.04002e-02  2.07629e-02 -4.37748e-06  4.42667e-08  0.00000e+00\n",
      "['0014', '2.97764e-04', '1.04002e-02', '2.07629e-02', '-4.37748e-06', '4.42667e-08', '0.00000e+00']\n",
      "0015  3.24849e-04  1.15899e-02  2.07142e-02 -3.80743e-06  3.65585e-08  0.00000e+00\n",
      "\n",
      "0015  3.24849e-04  1.15899e-02  2.07142e-02 -3.80743e-06  3.65585e-08  0.00000e+00\n",
      "['0015', '3.24849e-04', '1.15899e-02', '2.07142e-02', '-3.80743e-06', '3.65585e-08', '0.00000e+00']\n",
      "0016  3.54397e-04  1.30545e-02  2.06584e-02 -3.38037e-06  3.00354e-08  0.00000e+00\n",
      "\n",
      "0016  3.54397e-04  1.30545e-02  2.06584e-02 -3.38037e-06  3.00354e-08  0.00000e+00\n",
      "['0016', '3.54397e-04', '1.30545e-02', '2.06584e-02', '-3.38037e-06', '3.00354e-08', '0.00000e+00']\n",
      "0017  3.86631e-04  1.48447e-02  2.05949e-02 -3.06744e-06  2.45295e-08  0.00000e+00\n",
      "\n",
      "0017  3.86631e-04  1.48447e-02  2.05949e-02 -3.06744e-06  2.45295e-08  0.00000e+00\n",
      "['0017', '3.86631e-04', '1.48447e-02', '2.05949e-02', '-3.06744e-06', '2.45295e-08', '0.00000e+00']\n",
      "0018  4.21794e-04  1.70175e-02  2.05231e-02 -2.84017e-06  1.99090e-08  0.00000e+00\n",
      "\n",
      "0018  4.21794e-04  1.70175e-02  2.05231e-02 -2.84017e-06  1.99090e-08  0.00000e+00\n",
      "['0018', '4.21794e-04', '1.70175e-02', '2.05231e-02', '-2.84017e-06', '1.99090e-08', '0.00000e+00']\n",
      "0019  4.60155e-04  1.96379e-02  2.04424e-02 -2.67623e-06  1.60613e-08  0.00000e+00\n",
      "\n",
      "0019  4.60155e-04  1.96379e-02  2.04424e-02 -2.67623e-06  1.60613e-08  0.00000e+00\n",
      "['0019', '4.60155e-04', '1.96379e-02', '2.04424e-02', '-2.67623e-06', '1.60613e-08', '0.00000e+00']\n",
      "0020  5.02002e-04  2.27802e-02  2.03522e-02 -2.56044e-06  1.28841e-08  0.00000e+00\n",
      "\n",
      "0020  5.02002e-04  2.27802e-02  2.03522e-02 -2.56044e-06  1.28841e-08  0.00000e+00\n",
      "['0020', '5.02002e-04', '2.27802e-02', '2.03522e-02', '-2.56044e-06', '1.28841e-08', '0.00000e+00']\n",
      "0021  5.47652e-04  2.65294e-02  2.02519e-02 -2.48050e-06  1.02826e-08  0.00000e+00\n",
      "\n",
      "0021  5.47652e-04  2.65294e-02  2.02519e-02 -2.48050e-06  1.02826e-08  0.00000e+00\n",
      "['0021', '5.47652e-04', '2.65294e-02', '2.02519e-02', '-2.48050e-06', '1.02826e-08', '0.00000e+00']\n",
      "0022  5.97453e-04  3.09824e-02  2.01408e-02 -2.42853e-06  8.16965e-09  0.00000e+00\n",
      "\n",
      "0022  5.97453e-04  3.09824e-02  2.01408e-02 -2.42853e-06  8.16965e-09  0.00000e+00\n",
      "['0022', '5.97453e-04', '3.09824e-02', '2.01408e-02', '-2.42853e-06', '8.16965e-09', '0.00000e+00']\n",
      "0023  6.51781e-04  3.62491e-02  2.00183e-02 -2.39743e-06  6.46595e-09  0.00000e+00\n",
      "\n",
      "0023  6.51781e-04  3.62491e-02  2.00183e-02 -2.39743e-06  6.46595e-09  0.00000e+00\n",
      "['0023', '6.51781e-04', '3.62491e-02', '2.00183e-02', '-2.39743e-06', '6.46595e-09', '0.00000e+00']\n",
      "0024  7.11046e-04  4.24536e-02  1.98836e-02 -2.38491e-06  5.10108e-09  0.00000e+00\n",
      "\n",
      "0024  7.11046e-04  4.24536e-02  1.98836e-02 -2.38491e-06  5.10108e-09  0.00000e+00\n",
      "['0024', '7.11046e-04', '4.24536e-02', '1.98836e-02', '-2.38491e-06', '5.10108e-09', '0.00000e+00']\n",
      "0025  7.75699e-04  4.97359e-02  1.97361e-02 -2.38890e-06  4.01374e-09  0.00000e+00\n",
      "\n",
      "0025  7.75699e-04  4.97359e-02  1.97361e-02 -2.38890e-06  4.01374e-09  0.00000e+00\n",
      "['0025', '7.75699e-04', '4.97359e-02', '1.97361e-02', '-2.38890e-06', '4.01374e-09', '0.00000e+00']\n",
      "0026  8.46230e-04  5.82525e-02  1.95752e-02 -2.40585e-06  3.15157e-09  0.00000e+00\n",
      "\n",
      "0026  8.46230e-04  5.82525e-02  1.95752e-02 -2.40585e-06  3.15157e-09  0.00000e+00\n",
      "['0026', '8.46230e-04', '5.82525e-02', '1.95752e-02', '-2.40585e-06', '3.15157e-09', '0.00000e+00']\n",
      "0027  9.23171e-04  6.81777e-02  1.94003e-02 -2.43549e-06  2.47061e-09  0.00000e+00\n",
      "\n",
      "0027  9.23171e-04  6.81777e-02  1.94003e-02 -2.43549e-06  2.47061e-09  0.00000e+00\n",
      "['0027', '9.23171e-04', '6.81777e-02', '1.94003e-02', '-2.43549e-06', '2.47061e-09', '0.00000e+00']\n",
      "0028  1.00711e-03  7.97049e-02  1.92106e-02 -2.47728e-06  1.93448e-09  0.00000e+00\n",
      "\n",
      "0028  1.00711e-03  7.97049e-02  1.92106e-02 -2.47728e-06  1.93448e-09  0.00000e+00\n",
      "['0028', '1.00711e-03', '7.97049e-02', '1.92106e-02', '-2.47728e-06', '1.93448e-09', '0.00000e+00']\n",
      "0029  1.09867e-03  9.30469e-02  1.90057e-02 -2.53098e-06  1.51345e-09  0.00000e+00\n",
      "\n",
      "0029  1.09867e-03  9.30469e-02  1.90057e-02 -2.53098e-06  1.51345e-09  0.00000e+00\n",
      "['0029', '1.09867e-03', '9.30469e-02', '1.90057e-02', '-2.53098e-06', '1.51345e-09', '0.00000e+00']\n",
      "0030  1.19856e-03  1.08437e-01  1.87850e-02 -2.59660e-06  1.18348e-09  0.00000e+00\n",
      "\n",
      "0030  1.19856e-03  1.08437e-01  1.87850e-02 -2.59660e-06  1.18348e-09  0.00000e+00\n",
      "['0030', '1.19856e-03', '1.08437e-01', '1.87850e-02', '-2.59660e-06', '1.18348e-09', '0.00000e+00']\n",
      "0031  1.30753e-03  1.26127e-01  1.85480e-02 -2.67435e-06  9.25237e-10  0.00000e+00\n",
      "\n",
      "0031  1.30753e-03  1.26127e-01  1.85480e-02 -2.67435e-06  9.25237e-10  0.00000e+00\n",
      "['0031', '1.30753e-03', '1.26127e-01', '1.85480e-02', '-2.67435e-06', '9.25237e-10', '0.00000e+00']\n",
      "0032  1.42640e-03  1.46391e-01  1.82944e-02 -2.76465e-06  7.23358e-10  0.00000e+00\n",
      "\n",
      "0032  1.42640e-03  1.46391e-01  1.82944e-02 -2.76465e-06  7.23358e-10  0.00000e+00\n",
      "['0032', '1.42640e-03', '1.46391e-01', '1.82944e-02', '-2.76465e-06', '7.23358e-10', '0.00000e+00']\n",
      "0033  1.55608e-03  1.69521e-01  1.80238e-02 -2.86804e-06  5.65651e-10  0.00000e+00\n",
      "\n",
      "0033  1.55608e-03  1.69521e-01  1.80238e-02 -2.86804e-06  5.65651e-10  0.00000e+00\n",
      "['0033', '1.55608e-03', '1.69521e-01', '1.80238e-02', '-2.86804e-06', '5.65651e-10', '0.00000e+00']\n",
      "0034  1.69755e-03  1.95826e-01  1.77358e-02 -2.98524e-06  4.42501e-10  0.00000e+00\n",
      "\n",
      "0034  1.69755e-03  1.95826e-01  1.77358e-02 -2.98524e-06  4.42501e-10  0.00000e+00\n",
      "['0034', '1.69755e-03', '1.95826e-01', '1.77358e-02', '-2.98524e-06', '4.42501e-10', '0.00000e+00']\n",
      "0035  1.85187e-03  2.25629e-01  1.74305e-02 -3.11710e-06  3.46351e-10  0.00000e+00\n",
      "\n",
      "0035  1.85187e-03  2.25629e-01  1.74305e-02 -3.11710e-06  3.46351e-10  0.00000e+00\n",
      "['0035', '1.85187e-03', '2.25629e-01', '1.74305e-02', '-3.11710e-06', '3.46351e-10', '0.00000e+00']\n",
      "0036  2.02023e-03  2.59263e-01  1.71077e-02 -3.26461e-06  2.71279e-10  0.00000e+00\n",
      "\n",
      "0036  2.02023e-03  2.59263e-01  1.71077e-02 -3.26461e-06  2.71279e-10  0.00000e+00\n",
      "['0036', '2.02023e-03', '2.59263e-01', '1.71077e-02', '-3.26461e-06', '2.71279e-10', '0.00000e+00']\n",
      "0037  2.20388e-03  2.97069e-01  1.67675e-02 -3.42891e-06  2.12652e-10  0.00000e+00\n",
      "\n",
      "0037  2.20388e-03  2.97069e-01  1.67675e-02 -3.42891e-06  2.12652e-10  0.00000e+00\n",
      "['0037', '2.20388e-03', '2.97069e-01', '1.67675e-02', '-3.42891e-06', '2.12652e-10', '0.00000e+00']\n",
      "0038  2.40423e-03  3.39383e-01  1.64101e-02 -3.61126e-06  1.66852e-10  0.00000e+00\n",
      "\n",
      "0038  2.40423e-03  3.39383e-01  1.64101e-02 -3.61126e-06  1.66852e-10  0.00000e+00\n",
      "['0038', '2.40423e-03', '3.39383e-01', '1.64101e-02', '-3.61126e-06', '1.66852e-10', '0.00000e+00']\n",
      "0039  2.62280e-03  3.86531e-01  1.60359e-02 -3.81308e-06  1.31058e-10  0.00000e+00\n",
      "\n",
      "0039  2.62280e-03  3.86531e-01  1.60359e-02 -3.81308e-06  1.31058e-10  0.00000e+00\n",
      "['0039', '2.62280e-03', '3.86531e-01', '1.60359e-02', '-3.81308e-06', '1.31058e-10', '0.00000e+00']\n",
      "0040  2.86123e-03  4.38817e-01  1.56454e-02 -4.03593e-06  1.03070e-10  0.00000e+00\n",
      "\n",
      "0040  2.86123e-03  4.38817e-01  1.56454e-02 -4.03593e-06  1.03070e-10  0.00000e+00\n",
      "['0040', '2.86123e-03', '4.38817e-01', '1.56454e-02', '-4.03593e-06', '1.03070e-10', '0.00000e+00']\n",
      "0041  3.12134e-03  4.96510e-01  1.52393e-02 -4.28153e-06  8.11734e-11  0.00000e+00\n",
      "\n",
      "0041  3.12134e-03  4.96510e-01  1.52393e-02 -4.28153e-06  8.11734e-11  0.00000e+00\n",
      "['0041', '3.12134e-03', '4.96510e-01', '1.52393e-02', '-4.28153e-06', '8.11734e-11', '0.00000e+00']\n",
      "0042  3.40508e-03  5.59824e-01  1.48184e-02 -4.55179e-06  6.40333e-11  0.00000e+00\n",
      "\n",
      "0042  3.40508e-03  5.59824e-01  1.48184e-02 -4.55179e-06  6.40333e-11  0.00000e+00\n",
      "['0042', '3.40508e-03', '5.59824e-01', '1.48184e-02', '-4.55179e-06', '6.40333e-11', '0.00000e+00']\n",
      "0043  3.71462e-03  6.28901e-01  1.43837e-02 -4.84879e-06  5.06085e-11  0.00000e+00\n",
      "\n",
      "0043  3.71462e-03  6.28901e-01  1.43837e-02 -4.84879e-06  5.06085e-11  0.00000e+00\n",
      "['0043', '3.71462e-03', '6.28901e-01', '1.43837e-02', '-4.84879e-06', '5.06085e-11', '0.00000e+00']\n",
      "0044  4.05230e-03  7.03788e-01  1.39366e-02 -5.17487e-06  4.00874e-11  0.00000e+00\n",
      "\n",
      "0044  4.05230e-03  7.03788e-01  1.39366e-02 -5.17487e-06  4.00874e-11  0.00000e+00\n",
      "['0044', '4.05230e-03', '7.03788e-01', '1.39366e-02', '-5.17487e-06', '4.00874e-11', '0.00000e+00']\n",
      "0045  4.42068e-03  7.84404e-01  1.34784e-02 -5.53265e-06  3.18368e-11  0.00000e+00\n",
      "\n",
      "0045  4.42068e-03  7.84404e-01  1.34784e-02 -5.53265e-06  3.18368e-11  0.00000e+00\n",
      "['0045', '4.42068e-03', '7.84404e-01', '1.34784e-02', '-5.53265e-06', '3.18368e-11', '0.00000e+00']\n",
      "0046  4.82253e-03  8.70515e-01  1.30109e-02 -5.92507e-06  2.53626e-11  0.00000e+00\n",
      "\n",
      "0046  4.82253e-03  8.70515e-01  1.30109e-02 -5.92507e-06  2.53626e-11  0.00000e+00\n",
      "['0046', '4.82253e-03', '8.70515e-01', '1.30109e-02', '-5.92507e-06', '2.53626e-11', '0.00000e+00']\n",
      "0047  5.26092e-03  9.61692e-01  1.25357e-02 -6.35540e-06  2.02786e-11  0.00000e+00\n",
      "\n",
      "0047  5.26092e-03  9.61692e-01  1.25357e-02 -6.35540e-06  2.02786e-11  0.00000e+00\n",
      "['0047', '5.26092e-03', '9.61692e-01', '1.25357e-02', '-6.35540e-06', '2.02786e-11', '0.00000e+00']\n",
      "0048  5.73916e-03  1.05727e+00  1.20550e-02 -6.82709e-06  1.62830e-11  0.00000e+00\n",
      "\n",
      "0048  5.73916e-03  1.05727e+00  1.20550e-02 -6.82709e-06  1.62830e-11  0.00000e+00\n",
      "['0048', '5.73916e-03', '1.05727e+00', '1.20550e-02', '-6.82709e-06', '1.62830e-11', '0.00000e+00']\n",
      "0049  6.26087e-03  1.15632e+00  1.15710e-02 -7.34340e-06  1.31394e-11  0.00000e+00\n",
      "\n",
      "0049  6.26087e-03  1.15632e+00  1.15710e-02 -7.34340e-06  1.31394e-11  0.00000e+00\n",
      "['0049', '6.26087e-03', '1.15632e+00', '1.15710e-02', '-7.34340e-06', '1.31394e-11', '0.00000e+00']\n",
      "0050  6.83000e-03  1.25757e+00  1.10860e-02 -7.90669e-06  1.06630e-11  0.00000e+00\n",
      "\n",
      "0050  6.83000e-03  1.25757e+00  1.10860e-02 -7.90669e-06  1.06630e-11  0.00000e+00\n",
      "['0050', '6.83000e-03', '1.25757e+00', '1.10860e-02', '-7.90669e-06', '1.06630e-11', '0.00000e+00']\n",
      "0051  7.45086e-03  1.35937e+00  1.06026e-02 -8.51741e-06  8.70850e-12  0.00000e+00\n",
      "\n",
      "0051  7.45086e-03  1.35937e+00  1.06026e-02 -8.51741e-06  8.70850e-12  0.00000e+00\n",
      "['0051', '7.45086e-03', '1.35937e+00', '1.06026e-02', '-8.51741e-06', '8.70850e-12', '0.00000e+00']\n",
      "0052  8.12817e-03  1.45968e+00  1.01235e-02 -9.17351e-06  7.16223e-12  0.00000e+00\n",
      "\n",
      "0052  8.12817e-03  1.45968e+00  1.01235e-02 -9.17351e-06  7.16223e-12  0.00000e+00\n",
      "['0052', '8.12817e-03', '1.45968e+00', '1.01235e-02', '-9.17351e-06', '7.16223e-12', '0.00000e+00']\n",
      "0053  8.86704e-03  1.55601e+00  9.65152e-03 -9.87105e-06  5.93482e-12  0.00000e+00\n",
      "\n",
      "0053  8.86704e-03  1.55601e+00  9.65152e-03 -9.87105e-06  5.93482e-12  0.00000e+00\n",
      "['0053', '8.86704e-03', '1.55601e+00', '9.65152e-03', '-9.87105e-06', '5.93482e-12', '0.00000e+00']\n",
      "0054  9.67307e-03  1.64549e+00  9.18941e-03 -1.06019e-05  4.95616e-12  0.00000e+00\n",
      "\n",
      "0054  9.67307e-03  1.64549e+00  9.18941e-03 -1.06019e-05  4.95616e-12  0.00000e+00\n",
      "['0054', '9.67307e-03', '1.64549e+00', '9.18941e-03', '-1.06019e-05', '4.95616e-12', '0.00000e+00']\n",
      "0055  1.05524e-02  1.72490e+00  8.74001e-03 -1.13445e-05  4.17129e-12  0.00000e+00\n",
      "\n",
      "0055  1.05524e-02  1.72490e+00  8.74001e-03 -1.13445e-05  4.17129e-12  0.00000e+00\n",
      "['0055', '1.05524e-02', '1.72490e+00', '8.74001e-03', '-1.13445e-05', '4.17129e-12', '0.00000e+00']\n",
      "0056  1.15116e-02  1.79097e+00  8.30601e-03 -1.20505e-05  3.53726e-12  0.00000e+00\n",
      "\n",
      "0056  1.15116e-02  1.79097e+00  8.30601e-03 -1.20505e-05  3.53726e-12  0.00000e+00\n",
      "['0056', '1.15116e-02', '1.79097e+00', '8.30601e-03', '-1.20505e-05', '3.53726e-12', '0.00000e+00']\n",
      "0057  1.25580e-02  1.84085e+00  7.88984e-03 -1.25998e-05  3.02064e-12  0.00000e+00\n",
      "\n",
      "0057  1.25580e-02  1.84085e+00  7.88984e-03 -1.25998e-05  3.02064e-12  0.00000e+00\n",
      "['0057', '1.25580e-02', '1.84085e+00', '7.88984e-03', '-1.25998e-05', '3.02064e-12', '0.00000e+00']\n",
      "0058  1.36996e-02  1.87306e+00  7.49341e-03 -1.28055e-05  2.59564e-12  0.00000e+00\n",
      "\n",
      "0058  1.36996e-02  1.87306e+00  7.49341e-03 -1.28055e-05  2.59564e-12  0.00000e+00\n",
      "['0058', '1.36996e-02', '1.87306e+00', '7.49341e-03', '-1.28055e-05', '2.59564e-12', '0.00000e+00']\n",
      "0059  1.49449e-02  1.88885e+00  7.11770e-03 -1.26437e-05  2.24262e-12  0.00000e+00\n",
      "\n",
      "0059  1.49449e-02  1.88885e+00  7.11770e-03 -1.26437e-05  2.24262e-12  0.00000e+00\n",
      "['0059', '1.49449e-02', '1.88885e+00', '7.11770e-03', '-1.26437e-05', '2.24262e-12', '0.00000e+00']\n",
      "0060  1.63034e-02  1.89321e+00  6.76240e-03 -1.26828e-05  1.94692e-12  0.00000e+00\n",
      "\n",
      "0060  1.63034e-02  1.89321e+00  6.76240e-03 -1.26828e-05  1.94692e-12  0.00000e+00\n",
      "['0060', '1.63034e-02', '1.89321e+00', '6.76240e-03', '-1.26828e-05', '1.94692e-12', '0.00000e+00']\n",
      "0061  1.77854e-02  1.89034e+00  6.42585e-03 -1.39052e-05  1.69789e-12  0.00000e+00\n",
      "\n",
      "0061  1.77854e-02  1.89034e+00  6.42585e-03 -1.39052e-05  1.69789e-12  0.00000e+00\n",
      "['0061', '1.77854e-02', '1.89034e+00', '6.42585e-03', '-1.39052e-05', '1.69789e-12', '0.00000e+00']\n",
      "0062  1.94021e-02  1.87690e+00  6.10584e-03 -1.58039e-05  1.48807e-12  0.00000e+00\n",
      "\n",
      "0062  1.94021e-02  1.87690e+00  6.10584e-03 -1.58039e-05  1.48807e-12  0.00000e+00\n",
      "['0062', '1.94021e-02', '1.87690e+00', '6.10584e-03', '-1.58039e-05', '1.48807e-12', '0.00000e+00']\n",
      "0063  2.11658e-02  1.84610e+00  5.80087e-03 -1.74184e-05  1.31224e-12  0.00000e+00\n",
      "\n",
      "0063  2.11658e-02  1.84610e+00  5.80087e-03 -1.74184e-05  1.31224e-12  0.00000e+00\n",
      "['0063', '2.11658e-02', '1.84610e+00', '5.80087e-03', '-1.74184e-05', '1.31224e-12', '0.00000e+00']\n",
      "0064  2.30897e-02  1.79415e+00  5.51006e-03 -1.88030e-05  1.16676e-12  0.00000e+00\n",
      "\n",
      "0064  2.30897e-02  1.79415e+00  5.51006e-03 -1.88030e-05  1.16676e-12  0.00000e+00\n",
      "['0064', '2.30897e-02', '1.79415e+00', '5.51006e-03', '-1.88030e-05', '1.16676e-12', '0.00000e+00']\n",
      "0065  2.51886e-02  1.72029e+00  5.23265e-03 -2.00446e-05  1.04897e-12  0.00000e+00\n",
      "\n",
      "0065  2.51886e-02  1.72029e+00  5.23265e-03 -2.00446e-05  1.04897e-12  0.00000e+00\n",
      "['0065', '2.51886e-02', '1.72029e+00', '5.23265e-03', '-2.00446e-05', '1.04897e-12', '0.00000e+00']\n",
      "0066  2.74783e-02  1.62611e+00  4.96780e-03 -2.12355e-05  9.56736e-13  0.00000e+00\n",
      "\n",
      "0066  2.74783e-02  1.62611e+00  4.96780e-03 -2.12355e-05  9.56736e-13  0.00000e+00\n",
      "['0066', '2.74783e-02', '1.62611e+00', '4.96780e-03', '-2.12355e-05', '9.56736e-13', '0.00000e+00']\n",
      "0067  2.99761e-02  1.51485e+00  4.71455e-03 -2.24227e-05  8.88019e-13  0.00000e+00\n",
      "\n",
      "0067  2.99761e-02  1.51485e+00  4.71455e-03 -2.24227e-05  8.88019e-13  0.00000e+00\n",
      "['0067', '2.99761e-02', '1.51485e+00', '4.71455e-03', '-2.24227e-05', '8.88019e-13', '0.00000e+00']\n",
      "0068  3.27009e-02  1.39067e+00  4.47189e-03 -2.36252e-05  8.40464e-13  0.00000e+00\n",
      "\n",
      "0068  3.27009e-02  1.39067e+00  4.47189e-03 -2.36252e-05  8.40464e-13  0.00000e+00\n",
      "['0068', '3.27009e-02', '1.39067e+00', '4.47189e-03', '-2.36252e-05', '8.40464e-13', '0.00000e+00']\n",
      "0069  3.56735e-02  1.25816e+00  4.23880e-03 -2.48391e-05  8.10984e-13  0.00000e+00\n",
      "\n",
      "0069  3.56735e-02  1.25816e+00  4.23880e-03 -2.48391e-05  8.10984e-13  0.00000e+00\n",
      "['0069', '3.56735e-02', '1.25816e+00', '4.23880e-03', '-2.48391e-05', '8.10984e-13', '0.00000e+00']\n",
      "0070  3.89162e-02  1.12181e+00  4.01441e-03 -2.60858e-05  7.95567e-13  0.00000e+00\n",
      "\n",
      "0070  3.89162e-02  1.12181e+00  4.01441e-03 -2.60858e-05  7.95567e-13  0.00000e+00\n",
      "['0070', '3.89162e-02', '1.12181e+00', '4.01441e-03', '-2.60858e-05', '7.95567e-13', '0.00000e+00']\n",
      "0071  4.24537e-02  9.85716e-01  3.79810e-03 -2.74580e-05  7.89507e-13  0.00000e+00\n",
      "\n",
      "0071  4.24537e-02  9.85716e-01  3.79810e-03 -2.74580e-05  7.89507e-13  0.00000e+00\n",
      "['0071', '4.24537e-02', '9.85716e-01', '3.79810e-03', '-2.74580e-05', '7.89507e-13', '0.00000e+00']\n",
      "0072  4.63128e-02  8.53356e-01  3.58958e-03 -2.89902e-05  7.88207e-13  0.00000e+00\n",
      "\n",
      "0072  4.63128e-02  8.53356e-01  3.58958e-03 -2.89902e-05  7.88207e-13  0.00000e+00\n",
      "['0072', '4.63128e-02', '8.53356e-01', '3.58958e-03', '-2.89902e-05', '7.88207e-13', '0.00000e+00']\n",
      "0073  5.05226e-02  7.27513e-01  3.38895e-03 -3.05017e-05  7.88797e-13  0.00000e+00\n",
      "\n",
      "0073  5.05226e-02  7.27513e-01  3.38895e-03 -3.05017e-05  7.88797e-13  0.00000e+00\n",
      "['0073', '5.05226e-02', '7.27513e-01', '3.38895e-03', '-3.05017e-05', '7.88797e-13', '0.00000e+00']\n",
      "0074  5.51151e-02  6.10323e-01  3.19670e-03 -3.19084e-05  7.91816e-13  0.00000e+00\n",
      "\n",
      "0074  5.51151e-02  6.10323e-01  3.19670e-03 -3.19084e-05  7.91816e-13  0.00000e+00\n",
      "['0074', '5.51151e-02', '6.10323e-01', '3.19670e-03', '-3.19084e-05', '7.91816e-13', '0.00000e+00']\n",
      "0075  6.01251e-02  5.03303e-01  3.01374e-03 -3.33341e-05  8.00213e-13  0.00000e+00\n",
      "\n",
      "0075  6.01251e-02  5.03303e-01  3.01374e-03 -3.33341e-05  8.00213e-13  0.00000e+00\n",
      "['0075', '6.01251e-02', '5.03303e-01', '3.01374e-03', '-3.33341e-05', '8.00213e-13', '0.00000e+00']\n",
      "0076  6.55905e-02  4.07366e-01  2.84130e-03 -3.48222e-05  8.17775e-13  0.00000e+00\n",
      "\n",
      "0076  6.55905e-02  4.07366e-01  2.84130e-03 -3.48222e-05  8.17775e-13  0.00000e+00\n",
      "['0076', '6.55905e-02', '4.07366e-01', '2.84130e-03', '-3.48222e-05', '8.17775e-13', '0.00000e+00']\n",
      "0077  7.15527e-02  3.22948e-01  2.68086e-03 -3.64571e-05  8.49281e-13  0.00000e+00\n",
      "\n",
      "0077  7.15527e-02  3.22948e-01  2.68086e-03 -3.64571e-05  8.49281e-13  0.00000e+00\n",
      "['0077', '7.15527e-02', '3.22948e-01', '2.68086e-03', '-3.64571e-05', '8.49281e-13', '0.00000e+00']\n",
      "0078  7.80569e-02  2.50083e-01  2.53404e-03 -3.83905e-05  9.01244e-13  0.00000e+00\n",
      "\n",
      "0078  7.80569e-02  2.50083e-01  2.53404e-03 -3.83905e-05  9.01244e-13  0.00000e+00\n",
      "['0078', '7.80569e-02', '2.50083e-01', '2.53404e-03', '-3.83905e-05', '9.01244e-13', '0.00000e+00']\n",
      "0079  8.51523e-02  1.88474e-01  2.40245e-03 -4.08386e-05  9.83531e-13  0.00000e+00\n",
      "\n",
      "0079  8.51523e-02  1.88474e-01  2.40245e-03 -4.08386e-05  9.83531e-13  0.00000e+00\n",
      "['0079', '8.51523e-02', '1.88474e-01', '2.40245e-03', '-4.08386e-05', '9.83531e-13', '0.00000e+00']\n",
      "0080  9.28926e-02  1.37556e-01  2.28754e-03 -4.41226e-05  1.11240e-12  0.00000e+00\n",
      "\n",
      "0080  9.28926e-02  1.37556e-01  2.28754e-03 -4.41226e-05  1.11240e-12  0.00000e+00\n",
      "['0080', '9.28926e-02', '1.37556e-01', '2.28754e-03', '-4.41226e-05', '1.11240e-12', '0.00000e+00']\n",
      "0081  1.01337e-01  9.65590e-02  2.19038e-03 -4.85905e-05  1.31639e-12  0.00000e+00\n",
      "\n",
      "0081  1.01337e-01  9.65590e-02  2.19038e-03 -4.85905e-05  1.31639e-12  0.00000e+00\n",
      "['0081', '1.01337e-01', '9.65590e-02', '2.19038e-03', '-4.85905e-05', '1.31639e-12', '0.00000e+00']\n",
      "0082  1.10548e-01  6.45666e-02  2.11154e-03 -5.44302e-05  1.64905e-12  0.00000e+00\n",
      "\n",
      "0082  1.10548e-01  6.45666e-02  2.11154e-03 -5.44302e-05  1.64905e-12  0.00000e+00\n",
      "['0082', '1.10548e-01', '6.45666e-02', '2.11154e-03', '-5.44302e-05', '1.64905e-12', '0.00000e+00']\n",
      "0083  1.20597e-01  4.05694e-02  2.05081e-03 -6.13637e-05  2.21915e-12  0.00000e+00\n",
      "\n",
      "0083  1.20597e-01  4.05694e-02  2.05081e-03 -6.13637e-05  2.21915e-12  0.00000e+00\n",
      "['0083', '1.20597e-01', '4.05694e-02', '2.05081e-03', '-6.13637e-05', '2.21915e-12', '0.00000e+00']\n",
      "0084  1.31559e-01  2.34975e-02  2.00713e-03 -6.78848e-05  3.27066e-12  0.00000e+00\n",
      "\n",
      "0084  1.31559e-01  2.34975e-02  2.00713e-03 -6.78848e-05  3.27066e-12  0.00000e+00\n",
      "['0084', '1.31559e-01', '2.34975e-02', '2.00713e-03', '-6.78848e-05', '3.27066e-12', '0.00000e+00']\n",
      "0085  1.43518e-01  1.22202e-02  1.97839e-03 -7.31889e-05  5.42061e-12  0.00000e+00\n",
      "\n",
      "0085  1.43518e-01  1.22202e-02  1.97839e-03 -7.31889e-05  5.42061e-12  0.00000e+00\n",
      "['0085', '1.43518e-01', '1.22202e-02', '1.97839e-03', '-7.31889e-05', '5.42061e-12', '0.00000e+00']\n",
      "0086  1.56564e-01  5.51577e-03  1.96158e-03 -7.20370e-05  1.04816e-11  0.00000e+00\n",
      "\n",
      "0086  1.56564e-01  5.51577e-03  1.96158e-03 -7.20370e-05  1.04816e-11  0.00000e+00\n",
      "['0086', '1.56564e-01', '5.51577e-03', '1.96158e-03', '-7.20370e-05', '1.04816e-11', '0.00000e+00']\n",
      "0087  1.70795e-01  2.07371e-03  1.95311e-03 -6.41032e-05  2.48995e-11  0.00000e+00\n",
      "\n",
      "0087  1.70795e-01  2.07371e-03  1.95311e-03 -6.41032e-05  2.48995e-11  0.00000e+00\n",
      "['0087', '1.70795e-01', '2.07371e-03', '1.95311e-03', '-6.41032e-05', '2.48995e-11', '0.00000e+00']\n",
      "0088  1.86321e-01  6.19318e-04  1.94959e-03 -5.14241e-05  7.81068e-11  0.00000e+00\n",
      "\n",
      "0088  1.86321e-01  6.19318e-04  1.94959e-03 -5.14241e-05  7.81068e-11  0.00000e+00\n",
      "['0088', '1.86321e-01', '6.19318e-04', '1.94959e-03', '-5.14241e-05', '7.81068e-11', '0.00000e+00']\n",
      "0089  2.03257e-01  1.39009e-04  1.94843e-03 -3.77215e-05  3.57678e-10  0.00000e+00\n",
      "\n",
      "0089  2.03257e-01  1.39009e-04  1.94843e-03 -3.77215e-05  3.57678e-10  0.00000e+00\n",
      "['0089', '2.03257e-01', '1.39009e-04', '1.94843e-03', '-3.77215e-05', '3.57678e-10', '0.00000e+00']\n",
      "0090  2.21733e-01  2.18583e-05  1.94815e-03 -2.41903e-05  2.71101e-09  0.00000e+00\n",
      "\n",
      "0090  2.21733e-01  2.18583e-05  1.94815e-03 -2.41903e-05  2.71101e-09  0.00000e+00\n",
      "['0090', '2.21733e-01', '2.18583e-05', '1.94815e-03', '-2.41903e-05', '2.71101e-09', '0.00000e+00']\n",
      "0091  2.41889e-01  2.19244e-06  1.94810e-03 -1.73324e-05  3.56335e-08  0.00000e+00\n",
      "\n",
      "0091  2.41889e-01  2.19244e-06  1.94810e-03 -1.73324e-05  3.56335e-08  0.00000e+00\n",
      "['0091', '2.41889e-01', '2.19244e-06', '1.94810e-03', '-1.73324e-05', '3.56335e-08', '0.00000e+00']\n",
      "0092  2.63877e-01  1.39515e-07  1.94809e-03 -6.10992e-06  4.95691e-07  0.00000e+00\n",
      "\n",
      "0092  2.63877e-01  1.39515e-07  1.94809e-03 -6.10992e-06  4.95691e-07  0.00000e+00\n",
      "['0092', '2.63877e-01', '1.39515e-07', '1.94809e-03', '-6.10992e-06', '4.95691e-07', '0.00000e+00']\n",
      "0093  2.87863e-01  2.17955e-08  1.94809e-03 -2.00479e-05  2.15681e-06  0.00000e+00\n",
      "\n",
      "0093  2.87863e-01  2.17955e-08  1.94809e-03 -2.00479e-05  2.15681e-06  0.00000e+00\n",
      "['0093', '2.87863e-01', '2.17955e-08', '1.94809e-03', '-2.00479e-05', '2.15681e-06', '0.00000e+00']\n",
      "0094  3.14030e-01  2.17955e-08  1.94809e-03  0.00000e+00  2.15681e-06  0.00000e+00\n",
      "\n",
      "0094  3.14030e-01  2.17955e-08  1.94809e-03  0.00000e+00  2.15681e-06  0.00000e+00\n",
      "['0094', '3.14030e-01', '2.17955e-08', '1.94809e-03', '0.00000e+00', '2.15681e-06', '0.00000e+00']\n",
      "0095  3.42575e-01  2.17955e-08  1.94809e-03  0.00000e+00  2.15681e-06  0.00000e+00\n",
      "\n",
      "0095  3.42575e-01  2.17955e-08  1.94809e-03  0.00000e+00  2.15681e-06  0.00000e+00\n",
      "['0095', '3.42575e-01', '2.17955e-08', '1.94809e-03', '0.00000e+00', '2.15681e-06', '0.00000e+00']\n",
      "[8.61138e-05 9.55903e-05 1.04687e-04 1.14222e-04 1.24623e-04 1.35971e-04\n",
      " 1.48349e-04 1.61853e-04 1.76585e-04 1.92655e-04 2.10187e-04 2.29312e-04\n",
      " 2.50175e-04 2.72935e-04 2.97764e-04 3.24849e-04 3.54397e-04 3.86631e-04\n",
      " 4.21794e-04 4.60155e-04 5.02002e-04 5.47652e-04 5.97453e-04 6.51781e-04\n",
      " 7.11046e-04 7.75699e-04 8.46230e-04 9.23171e-04 1.00711e-03 1.09867e-03\n",
      " 1.19856e-03 1.30753e-03 1.42640e-03 1.55608e-03 1.69755e-03 1.85187e-03\n",
      " 2.02023e-03 2.20388e-03 2.40423e-03 2.62280e-03 2.86123e-03 3.12134e-03\n",
      " 3.40508e-03 3.71462e-03 4.05230e-03 4.42068e-03 4.82253e-03 5.26092e-03\n",
      " 5.73916e-03 6.26087e-03 6.83000e-03 7.45086e-03 8.12817e-03 8.86704e-03\n",
      " 9.67307e-03 1.05524e-02 1.15116e-02 1.25580e-02 1.36996e-02 1.49449e-02\n",
      " 1.63034e-02 1.77854e-02 1.94021e-02 2.11658e-02 2.30897e-02 2.51886e-02\n",
      " 2.74783e-02 2.99761e-02 3.27009e-02 3.56735e-02 3.89162e-02 4.24537e-02\n",
      " 4.63128e-02 5.05226e-02 5.51151e-02 6.01251e-02 6.55905e-02 7.15527e-02\n",
      " 7.80569e-02 8.51523e-02 9.28926e-02 1.01337e-01 1.10548e-01 1.20597e-01\n",
      " 1.31559e-01 1.43518e-01 1.56564e-01 1.70795e-01 1.86321e-01 2.03257e-01\n",
      " 2.21733e-01 2.41889e-01 2.63877e-01 2.87863e-01 3.14030e-01 3.42575e-01]\n"
     ]
    }
   ],
   "source": [
    "import numpy as np\n",
    "import matplotlib.pyplot as plt\n",
    "import os\n",
    "\n",
    "file = open('data.tab.txt','r')\n",
    "\n",
    "# Read and ignore header lines\n",
    "header1 = file.readline() #means read first line\n",
    "print(header1)\n",
    "header2 = file.readline()\n",
    "x1v = []\n",
    "rho = []\n",
    "vel2 = []\n",
    "for line in file: # Loop through every line in the file\n",
    "    print(line)\n",
    "    line = line.strip() # The strip() removes characters from both left and right \n",
    "    print(line)\n",
    "    columns = line.split() # Split the string into many columns\n",
    "    print(columns)\n",
    "    x1v = np.append(x1v,float(columns[1])) # convert the column into floating numbers\n",
    "    rho = np.append(rho,float(columns[2]))\n",
    "    vel2 = np.append(vel2,float(columns[5]))\n",
    "print(x1v) #now all the elements in index[1] are in one array x1v"
   ]
  },
  {
   "cell_type": "code",
   "execution_count": 32,
   "metadata": {},
   "outputs": [
    {
     "name": "stdout",
     "output_type": "stream",
     "text": [
      "[ 0.  1.  2.  3.  4.  5.  6.  7.  8.  9. 10. 11. 12. 13. 14. 15. 16. 17.\n",
      " 18. 19. 20. 21. 22. 23. 24. 25. 26. 27. 28. 29. 30. 31. 32. 33. 34. 35.\n",
      " 36. 37. 38. 39. 40. 41. 42. 43. 44. 45. 46. 47. 48. 49. 50. 51. 52. 53.\n",
      " 54. 55. 56. 57. 58. 59. 60. 61. 62. 63. 64. 65. 66. 67. 68. 69. 70. 71.\n",
      " 72. 73. 74. 75. 76. 77. 78. 79. 80. 81. 82. 83. 84. 85. 86. 87. 88. 89.\n",
      " 90. 91. 92. 93. 94. 95.]\n"
     ]
    }
   ],
   "source": [
    "# A little bit more complicated data readin\n",
    "import numpy as np\n",
    "import matplotlib.pyplot as plt\n",
    "import sys\n",
    "\n",
    "# now define a function to read in files\n",
    "def readfile(name):\n",
    " f = open(name,'r')\n",
    " header1 = f.readline() # one header line\n",
    " header2 = f.readline()\n",
    " #data is dictionary with arrays\n",
    " data={'ind':[],'x1v':[],'rho':[],'press':[],'vel1':[],'vel2':[],'vel3':[]} # use dictionary to organize the arrays, each element is an array \n",
    " for line in f:\n",
    "    # try yourself to readin the data to the dictionary\n",
    "    line = line.strip() # The strip() removes characters from both left and right \n",
    "    columns = line.split() # Split the string into many columns\n",
    "    data['ind']=np.append(data['ind'],float(columns[0]))\n",
    "    data['x1v']=np.append(data['x1v'],float(columns[1]))\n",
    "    data['rho']=np.append(data['rho'],float(columns[2]))\n",
    "    data['press']=np.append(data['press'],float(columns[3]))\n",
    "    data['vel1']=np.append(data['vel1'],float(columns[4]))\n",
    "    data['vel2']=np.append(data['vel2'],float(columns[5]))\n",
    "    data['vel3']=np.append(data['vel3'],float(columns[6]))\n",
    " return(data)\n",
    "\n",
    "data = readfile(\"data.tab.txt\")\n",
    "print(data['ind'])\n"
   ]
  },
  {
   "cell_type": "markdown",
   "metadata": {},
   "source": [
    "# 2 Making Plots\n",
    "  \n",
    "## 2.1 VPython (Optional)\n",
    "\n",
    "VPython can make 2-D plots\n",
    "\n",
    "vpython plot basically add point by point"
   ]
  },
  {
   "cell_type": "code",
   "execution_count": 4,
   "metadata": {
    "scrolled": true
   },
   "outputs": [
    {
     "data": {
      "text/html": [
       "<div id=\"glowscript\" class=\"glowscript\"></div>"
      ],
      "text/plain": [
       "<IPython.core.display.HTML object>"
      ]
     },
     "metadata": {},
     "output_type": "display_data"
    },
    {
     "data": {
      "application/javascript": [
       "if (typeof Jupyter !== \"undefined\") { window.__context = { glowscript_container: $(\"#glowscript\").removeAttr(\"id\")};}else{ element.textContent = ' ';}"
      ],
      "text/plain": [
       "<IPython.core.display.Javascript object>"
      ]
     },
     "metadata": {},
     "output_type": "display_data"
    }
   ],
   "source": [
    "from vpython import * # must import vpython first\n",
    "scene = canvas() # with this you don't need to restart kernel each time\n",
    "#canvas puts like a sheet of paper there\n",
    "\n",
    "f1 = gcurve(color=color.cyan)\t# a graphics curve\n",
    "for x in arange(0, 8.05, 0.1):\t# x goes from 0 to 8\n",
    "    f1.plot(pos=(x,5*cos(2*x)*exp(-0.2*x)))\t# plot\n",
    "    #for every x here add this y\n",
    "    \n",
    "f2 = gvbars(delta=0.05, color=color.blue) # a bar curve\n",
    "for x in arange(0, 8.05, 0.1):\t# x goes from 0 to 8\n",
    "    f2.plot(pos=(x,3*cos(2*x)*exp(-0.2*x)))\t# plot"
   ]
  },
  {
   "cell_type": "markdown",
   "metadata": {},
   "source": [
    "VPython is good at making 3D object"
   ]
  },
  {
   "cell_type": "code",
   "execution_count": 5,
   "metadata": {
    "scrolled": true
   },
   "outputs": [],
   "source": [
    "from vpython import *\n",
    "Sue=sphere(pos = vector(-1,0,0), radius=0.5, color=color.green) # make the first sphere at pos\n",
    "Bob=sphere(pos = vector(1,1,0), radius=0.5, color=color.green) # make the second sphere\n",
    "arrow(pos=Sue.pos,axis=Bob.pos-Sue.pos,color=color.red) # make an arrow pointint from Sue to Bob\n",
    "#axis is vector where its pointing to"
   ]
  },
  {
   "cell_type": "markdown",
   "metadata": {},
   "source": [
    "You can even make animations"
   ]
  },
  {
   "cell_type": "code",
   "execution_count": 3,
   "metadata": {
    "scrolled": false
   },
   "outputs": [
    {
     "data": {
      "text/html": [
       "<div id=\"glowscript\" class=\"glowscript\"></div>"
      ],
      "text/plain": [
       "<IPython.core.display.HTML object>"
      ]
     },
     "metadata": {},
     "output_type": "display_data"
    },
    {
     "data": {
      "application/javascript": [
       "if (typeof Jupyter !== \"undefined\") { window.__context = { glowscript_container: $(\"#glowscript\").removeAttr(\"id\")};}else{ element.textContent = ' ';}"
      ],
      "text/plain": [
       "<IPython.core.display.Javascript object>"
      ]
     },
     "metadata": {},
     "output_type": "display_data"
    }
   ],
   "source": [
    "from vpython import *\n",
    "scene2 = canvas(title='Ring and Ball',\n",
    "     width=600, height=300,\n",
    "     center=vector(0,1,2), forward=vector(0,-0.5,-1), background=color.cyan) # set the camera\n",
    "# y is pointing up, z is pointing inwards, for the ring, axis is the direction it is pointing\n",
    "Sue=ring(pos = vector(0,0,0), axis=vector(0,1,0), radius=1, thickness=0.3, color=color.green)\n",
    "Bob=sphere(pos = vector(0,5,0), radius=0.5, color=color.cyan)\n",
    "arr=helix(pos=Sue.pos,axis=Bob.pos-Sue.pos,radius=0.5,color=color.red) # plot the helix\n",
    "\n",
    "r = Bob.pos #this is a vector\n",
    "while r.y > -5.:\n",
    "    #this gradually decreases the bob\n",
    "    rate(10)   # slow down the animation\n",
    "    Bob.pos = r\n",
    "    c=Bob.pos - Sue.pos\n",
    "    arr.axis = c  # update the helix length\n",
    "    r.y = r.y - 0.1 # update Bob the sphere's position"
   ]
  },
  {
   "cell_type": "markdown",
   "metadata": {},
   "source": [
    "## 2.2 Matplotlib\n",
    "\n",
    "Powerful plotting package. Most commonly used python plotting tool. Has similar commands as MATLAB. Uses the NumPy array objects to store the data to plot. Different from VPython which adds points one by one. "
   ]
  },
  {
   "cell_type": "code",
   "execution_count": 6,
   "metadata": {},
   "outputs": [
    {
     "name": "stdout",
     "output_type": "stream",
     "text": [
      "arange => x[0], x[1],x[499]=   -5.00    -4.98     4.98\n",
      "arange => y[0], y[1],y[499]=   -0.13    -0.31     0.31\n",
      "\n",
      " Now doing the plotting thing, look for Figure 1 on desktop\n"
     ]
    },
    {
     "data": {
      "image/png": "[encoded data removed]",
      "text/plain": [
       "<Figure size 432x288 with 1 Axes>"
      ]
     },
     "metadata": {
      "needs_background": "light"
     },
     "output_type": "display_data"
    }
   ],
   "source": [
    "\"\"\" From \"COMPUTATIONAL PHYSICS\", 3rd Ed, Enlarged Python eTextBook  \n",
    "    by RH Landau, MJ Paez, and CC Bordeianu\n",
    "    Copyright Wiley-VCH Verlag GmbH & Co. KGaA, Berlin;  Copyright R Landau,\n",
    "    Oregon State Unv, MJ Paez, Univ Antioquia, C Bordeianu, Univ Bucharest, 2015.\n",
    "    Support by National Science Foundation\"\"\"                                                       \n",
    "\n",
    "# EasyMatPlot.py:                 Simple use of matplotlib's plot command \n",
    "from pylab import *           # Load Matplotlib\n",
    "\n",
    "Xmin = -5.0;        Xmax = +5.0;      Npoints= 500\n",
    "DelX= (Xmax-Xmin)/Npoints                                      # Delta x\n",
    "x = arange(Xmin, Xmax, DelX)      # Form x array in range with increment \n",
    "y =  sin(x)*sin(x*x)              # y array = function of x array\n",
    "\n",
    "print ('arange => x[0], x[1],x[499]=%8.2f %8.2f %8.2f' %(x[0],x[1],x[499]))\n",
    "print ('arange => y[0], y[1],y[499]=%8.2f %8.2f %8.2f' %(y[0],y[1],y[499]))\n",
    "print (\"\\n Now doing the plotting thing, look for Figure 1 on desktop\" )                                                                                       \n",
    "xlabel('x');      ylabel('f(x)');     title(' f(x) vs x')        # labels\n",
    "text(-1.85,  0.75, 'MatPlotLib Example')                     # Text on plot\n",
    "plot(x, y, '-', lw=2)                                 # dash means it is a line                     \n",
    "grid(True)                                                    # Form grid\n",
    "show()                                                 # Make screen plot"
   ]
  },
  {
   "cell_type": "code",
   "execution_count": 7,
   "metadata": {},
   "outputs": [
    {
     "data": {
      "image/png": "[encoded data removed]",
      "text/plain": [
       "<Figure size 432x288 with 1 Axes>"
      ]
     },
     "metadata": {
      "needs_background": "light"
     },
     "output_type": "display_data"
    }
   ],
   "source": [
    "x=np.arange(0.,2.*3.14,0.1)\n",
    "y=sin(x)\n",
    "plt.plot(x,y)\n",
    "plt.show()"
   ]
  },
  {
   "cell_type": "code",
   "execution_count": 12,
   "metadata": {},
   "outputs": [
    {
     "data": {
      "image/png": "[encoded data removed]",
      "text/plain": [
       "<Figure size 432x288 with 1 Axes>"
      ]
     },
     "metadata": {
      "needs_background": "light"
     },
     "output_type": "display_data"
    }
   ],
   "source": [
    "#doing this in class on own\n",
    "#from -2pi,2pi\n",
    "x=np.arange(-2*pi,2*pi,0.1)\n",
    "y=x\n",
    "y2=x-(1./6.*x**3)\n",
    "y3=sin(x)\n",
    "plt.ylim(-2,2)\n",
    "plt.plot(x,y)\n",
    "plt.plot(x,y2)\n",
    "plt.plot(x,y3)\n",
    "plt.show()"
   ]
  },
  {
   "cell_type": "code",
   "execution_count": 19,
   "metadata": {},
   "outputs": [
    {
     "data": {
      "image/png": "[encoded data removed]",
      "text/plain": [
       "<matplotlib.figure.Figure at 0x11bc768d0>"
      ]
     },
     "metadata": {},
     "output_type": "display_data"
    }
   ],
   "source": [
    "\"\"\" From \"COMPUTATIONAL PHYSICS\", 3rd Ed, Enlarged Python eTextBook  \n",
    "    by RH Landau, MJ Paez, and CC Bordeianu\n",
    "    Copyright Wiley-VCH Verlag GmbH & Co. KGaA, Berlin;  Copyright R Landau,\n",
    "    Oregon State Unv, MJ Paez, Univ Antioquia, C Bordeianu, Univ Bucharest, 2015.\n",
    "    Support by National Science Foundation\"\"\"\n",
    "\n",
    "# Grade.py: Using Matplotlib's plot command with multi data sets & curves\n",
    "\n",
    "import pylab as p                           # import Matplotlib label it as p\n",
    "from numpy import *                                 # import numpy library\n",
    "\n",
    "p.title('Grade Inflation')                             # Title and labels\n",
    "p.xlabel('Years in College')\n",
    "p.ylabel('GPA')\n",
    "\n",
    "xa = array([-1, 5])                                 # For horizontal line\n",
    "ya = array([0, 0])                                       # Array of zeros\n",
    "p.plot(xa, ya)                                     # Draw horizontal line\n",
    "                                                   \n",
    "x0 = array([0, 1, 2, 3, 4])                           # Data set 0 points\n",
    "y0 = array([-1.4, +1.1, 2.2, 3.3, 4.0])\n",
    "p.plot(x0, y0, 'bo')                          # Data set 0 = blue circles\n",
    "p.plot(x0, y0, 'g')                                   # Data set 0 = line\n",
    "#'g' means green line to connect the dots\n",
    "\n",
    "y1 = array([4.0, 2.7, -1.8, -0.9, 2.6])               # Data set 1 points\n",
    "t = arange(0, 5, 1)\n",
    "p.plot(t, y1, 'r')                                          \n",
    "\n",
    "err1sup = array([1.0, 0.3, 1.2, 0.4, 0.1])        # Asymmetric error bars\n",
    "err1inf = array([2.0, 0.6, 2.3, 1.8, 0.4])                    \n",
    "p.errorbar(t, y1, [err1inf, err1sup], fmt = 'o')        # Plot error bars\n",
    "\n",
    "p.grid(True)                                                  # Grid line\n",
    "p.show()                                          # Create plot on screen"
   ]
  },
  {
   "cell_type": "markdown",
   "metadata": {},
   "source": [
    "It can also plot 3-D data.   \n",
    "Two ways:  \n",
    "1) 3-D surface  \n",
    "2) 2-D color contour"
   ]
  },
  {
   "cell_type": "code",
   "execution_count": 26,
   "metadata": {},
   "outputs": [
    {
     "data": {
      "image/png": "[encoded data removed]",
      "text/plain": [
       "<matplotlib.figure.Figure at 0x10b0ed7f0>"
      ]
     },
     "metadata": {},
     "output_type": "display_data"
    }
   ],
   "source": [
    "# Plot the potential of a point mass with two methods (two subplots)\n",
    "\n",
    "import matplotlib.pylab  as p                                     \n",
    "from mpl_toolkits.mplot3d import Axes3D        \n",
    "\n",
    "# to make 3-D plot, need Axes3D package from matplot tool kit\n",
    "\n",
    "delta = 0.1\n",
    "#below generates grid\n",
    "x = p.arange( -3., 3., delta )\n",
    "y = p.arange( -3., 3., delta )\n",
    "#below 'meshgrid' converts x,y to grid\n",
    "#X stores all x values for grid\n",
    "#Y stores all the y values for grid\n",
    "X, Y = p.meshgrid(x, y)                 # set coordinate grid matrix, X, Y are 2D array\n",
    "smooth = 0.3                            # smoothing length to avoid singularity\n",
    "#so Z is a 2d array\n",
    "#all 60 by 60\n",
    "Z = -1./p.sqrt(X*X+Y*Y+smooth*smooth)                               # Surface height\n",
    "\n",
    "fig = p.figure()                                    # Create figure\n",
    "\n",
    "ax = fig.add_subplot(2,2,1)\n",
    "levels=p.arange(Z.min(),Z.max(),(Z.max() - Z.min())/100.)\n",
    "CS=p.contour(x,y,Z, levels=levels)\n",
    "#CS=p.contour(x,y,Z, levels=levels) fills in lines\n",
    "#p.plot([-1.,1.],[1.,-1.]) will put a line through the contour plot\n",
    "p.xlabel('X')\n",
    "p.ylabel('Y')\n",
    "p.colorbar(CS)\n",
    "\n",
    "ax = fig.add_subplot(2,2,3,projection='3d')          # the 2 by 2, 4 subplots, the first one\n",
    "ax.plot_surface(X, Y, Z)                            # Surface\n",
    "ax.plot_wireframe(X, Y, Z, color = 'r')               # Add wireframe\n",
    "#can change color of outline wire frame\n",
    "ax.set_xlabel('X')\n",
    "ax.set_ylabel('Y')\n",
    "ax.set_zlabel('Z')\n",
    "\n",
    "\n",
    "p.show()                                             # Output figure"
   ]
  },
  {
   "cell_type": "code",
   "execution_count": 35,
   "metadata": {},
   "outputs": [
    {
     "name": "stdout",
     "output_type": "stream",
     "text": [
      "(60, 60) (60, 60) (60, 60)\n"
     ]
    }
   ],
   "source": [
    "print(X.shape, Y.shape, Z.shape)"
   ]
  },
  {
   "cell_type": "code",
   "execution_count": 40,
   "metadata": {},
   "outputs": [
    {
     "name": "stdout",
     "output_type": "stream",
     "text": [
      "(60,) (60,) (60, 60)\n"
     ]
    }
   ],
   "source": [
    "print(x.shape,y.shape,Z.shape)"
   ]
  },
  {
   "cell_type": "markdown",
   "metadata": {},
   "source": [
    "# Homework\n",
    "\n",
    "1) \n",
    "\n",
    "Write a program to plot\n",
    "\\begin{equation}\n",
    "f(x)=\\pi/2+2*(sin(x)+sin(3x)/3+sin(5x)/5+....sin(nx)/n)\n",
    "\\end{equation}\n",
    "from -$\\pi$ to $\\pi$. Choose n=11, 21 and 31 and plot three curves in one figure. Please use numpy library and matplotlib.\n",
    "\n",
    "Then setup your github account and commit this to your github.\n",
    "\n",
    "2) For graduate student\n",
    "\n",
    "Write your own Vpython program to generate a simple animation. "
   ]
  }
 ],
 "metadata": {
  "kernelspec": {
   "display_name": "Python 3",
   "language": "python",
   "name": "python3"
  },
  "language_info": {
   "codemirror_mode": {
    "name": "ipython",
    "version": 3
   },
   "file_extension": ".py",
   "mimetype": "text/x-python",
   "name": "python",
   "nbconvert_exporter": "python",
   "pygments_lexer": "ipython3",
   "version": "3.8.3"
  }
 },
 "nbformat": 4,
 "nbformat_minor": 2
}
