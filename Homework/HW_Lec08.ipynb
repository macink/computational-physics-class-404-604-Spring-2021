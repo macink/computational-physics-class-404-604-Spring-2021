{
 "cells": [
  {
   "cell_type": "markdown",
   "metadata": {},
   "source": [
    "# Homework Lecture 8\n",
    "\n",
    "Write a shooting method to calculate the Legendre polynomials with n=5.\n",
    "\n",
    "\\begin{equation}\n",
    "\\frac{d^2 P_n}{d x^2} = \\frac{1}{1-x^2}[2x\\frac{dP_n}{dx}-n(n+1)P_n],\n",
    "\\end{equation}\n",
    "\n",
    "The integration domain can be reduced from [-1,1] to [0,1].\n",
    "\n",
    "We want to integrate\n",
    "\\begin{equation}\n",
    "y''=\\frac{1}{1-x^2}[2xy'-n(n+1)y],\n",
    "\\end{equation}\n",
    "from 0 to 1.\n",
    "We will use the initial and boundary conditions\n",
    "\\begin{eqnarray}\n",
    "y(0) &=& 0\\\\\n",
    "y'(0) &=& y'_a\\\\\n",
    "\\end{eqnarray}\n",
    "\n",
    "We will vary y'(0) until y(1)=1 with the bisection method."
   ]
  },
  {
   "cell_type": "markdown",
   "metadata": {},
   "source": [
    "We have a second order differential equation so we will break it up into two first order differential equations\n",
    "\n",
    "\\begin{eqnarray}\n",
    "\\frac{dy}{dx} &=& v_y,\\\\\n",
    "\\frac{dv_y}{dx} &=& \\frac{1}{1-x^2}[2xy'-n(n+1)y].\n",
    "\\end{eqnarray}\n"
   ]
  },
  {
   "cell_type": "code",
   "execution_count": 1,
   "metadata": {},
   "outputs": [
    {
     "data": {
      "image/png": "[encoded data removed]",
      "text/plain": [
       "<Figure size 432x288 with 1 Axes>"
      ]
     },
     "metadata": {
      "needs_background": "light"
     },
     "output_type": "display_data"
    },
    {
     "name": "stdout",
     "output_type": "stream",
     "text": [
      "This is how our resulting plot should look\n"
     ]
    }
   ],
   "source": [
    "import numpy as np\n",
    "import matplotlib.pyplot as plt\n",
    "\n",
    "vy=1.875     #this is the value we want to get\n",
    "vymin=1.500\n",
    "vymax=2.500\n",
    "h=1.e-4\n",
    "y=[0.,vy]    #y[0]=y, y[1]=vy\n",
    "targety=1.\n",
    "x=0.\n",
    "xend=1.\n",
    "\n",
    "def f(t, y):\n",
    "    '''\n",
    "    Legendre polynomial function\n",
    "    '''\n",
    "    f=np.zeros(2)\n",
    "    n=5\n",
    "    f[0]=y[1]    #dy/dx\n",
    "    f[1]=(1/(1-x*x))*(2*x*y[1]-n*(n+1)*y[0])\n",
    "    return f\n",
    "\n",
    "def rk4(t, h, y, n):\n",
    "    '''\n",
    "    Runge-Kutta method for integration\n",
    "    '''\n",
    "    k1 = np.zeros(n)\n",
    "    k2 = np.zeros(n)\n",
    "    k3 = np.zeros(n)\n",
    "    k4 = np.zeros(n)\n",
    "    k1=h*f(t,y)\n",
    "    k2=h*f(t+0.5*h,y+0.5*k1)\n",
    "    k3=h*f(t+0.5*h,y+0.5*k2)\n",
    "    k4=h*f(t+h,y+k3)\n",
    "    y+=(k1+2.*(k2+k3)+k4)/6.\n",
    "    return y\n",
    "\n",
    "xp=[x]\n",
    "yp=[y[0]]\n",
    "\n",
    "while(x<xend):\n",
    "    '''\n",
    "    loop to get our x points and y points on the interval 0 to 1\n",
    "    '''\n",
    "    if((x+h)>xend):\n",
    "        h=xend-x\n",
    "    y = rk4(x,h,y,2)\n",
    "    xp=np.append(xp,x)\n",
    "    yp=np.append(yp,y[0])\n",
    "    x= x+h\n",
    "\n",
    "plt.plot(xp,yp)\n",
    "plt.title('For vy=1.875', fontsize=14)\n",
    "plt.xlabel('x', fontsize=12)\n",
    "plt.ylabel('y', fontsize=12)\n",
    "plt.show()\n",
    "\n",
    "print('This is how our resulting plot should look')"
   ]
  },
  {
   "cell_type": "markdown",
   "metadata": {},
   "source": [
    "Now we will use the bisection method to calculate the velocity which should be 1.875 like the plot above.\n",
    "\n",
    "We will start with vy minimum being 1.5 and maximum being 2.5.\n",
    "The bisection method will calculate the midpoint between the min and max velocities.\n",
    "Then, the program will get the function values given the midpoint velority and change to a new midpoint accordingly.\n",
    "The final function should equal one when x=1."
   ]
  },
  {
   "cell_type": "code",
   "execution_count": 2,
   "metadata": {},
   "outputs": [
    {
     "ename": "KeyboardInterrupt",
     "evalue": "",
     "output_type": "error",
     "traceback": [
      "\u001b[0;31m---------------------------------------------------------------------------\u001b[0m",
      "\u001b[0;31mKeyboardInterrupt\u001b[0m                         Traceback (most recent call last)",
      "\u001b[0;32m<ipython-input-2-d5b706ab8277>\u001b[0m in \u001b[0;36m<module>\u001b[0;34m\u001b[0m\n\u001b[1;32m     11\u001b[0m         \u001b[0my\u001b[0m \u001b[0;34m=\u001b[0m \u001b[0mrk4\u001b[0m\u001b[0;34m(\u001b[0m\u001b[0mx\u001b[0m\u001b[0;34m,\u001b[0m\u001b[0mh\u001b[0m\u001b[0;34m,\u001b[0m\u001b[0my\u001b[0m\u001b[0;34m,\u001b[0m\u001b[0;36m2\u001b[0m\u001b[0;34m)\u001b[0m\u001b[0;34m\u001b[0m\u001b[0;34m\u001b[0m\u001b[0m\n\u001b[1;32m     12\u001b[0m         \u001b[0mxp\u001b[0m\u001b[0;34m=\u001b[0m\u001b[0mnp\u001b[0m\u001b[0;34m.\u001b[0m\u001b[0mappend\u001b[0m\u001b[0;34m(\u001b[0m\u001b[0mxp\u001b[0m\u001b[0;34m,\u001b[0m\u001b[0mx\u001b[0m\u001b[0;34m)\u001b[0m\u001b[0;34m\u001b[0m\u001b[0;34m\u001b[0m\u001b[0m\n\u001b[0;32m---> 13\u001b[0;31m         \u001b[0myp\u001b[0m\u001b[0;34m=\u001b[0m\u001b[0mnp\u001b[0m\u001b[0;34m.\u001b[0m\u001b[0mappend\u001b[0m\u001b[0;34m(\u001b[0m\u001b[0myp\u001b[0m\u001b[0;34m,\u001b[0m\u001b[0my\u001b[0m\u001b[0;34m[\u001b[0m\u001b[0;36m0\u001b[0m\u001b[0;34m]\u001b[0m\u001b[0;34m)\u001b[0m\u001b[0;34m\u001b[0m\u001b[0;34m\u001b[0m\u001b[0m\n\u001b[0m\u001b[1;32m     14\u001b[0m         \u001b[0;32mif\u001b[0m\u001b[0;34m(\u001b[0m\u001b[0my\u001b[0m\u001b[0;34m[\u001b[0m\u001b[0;36m0\u001b[0m\u001b[0;34m]\u001b[0m\u001b[0;34m>\u001b[0m\u001b[0;36m1\u001b[0m\u001b[0;34m)\u001b[0m\u001b[0;34m:\u001b[0m    \u001b[0;31m#if y is greater than 1 we've gone too far\u001b[0m\u001b[0;34m\u001b[0m\u001b[0;34m\u001b[0m\u001b[0m\n\u001b[1;32m     15\u001b[0m             \u001b[0;34m'''I cannot get this condition to work'''\u001b[0m\u001b[0;34m\u001b[0m\u001b[0;34m\u001b[0m\u001b[0m\n",
      "\u001b[0;32m<__array_function__ internals>\u001b[0m in \u001b[0;36mappend\u001b[0;34m(*args, **kwargs)\u001b[0m\n",
      "\u001b[0;32m~/.local/lib/python3.8/site-packages/numpy/lib/function_base.py\u001b[0m in \u001b[0;36mappend\u001b[0;34m(arr, values, axis)\u001b[0m\n\u001b[1;32m   4669\u001b[0m         \u001b[0mvalues\u001b[0m \u001b[0;34m=\u001b[0m \u001b[0mravel\u001b[0m\u001b[0;34m(\u001b[0m\u001b[0mvalues\u001b[0m\u001b[0;34m)\u001b[0m\u001b[0;34m\u001b[0m\u001b[0;34m\u001b[0m\u001b[0m\n\u001b[1;32m   4670\u001b[0m         \u001b[0maxis\u001b[0m \u001b[0;34m=\u001b[0m \u001b[0marr\u001b[0m\u001b[0;34m.\u001b[0m\u001b[0mndim\u001b[0m\u001b[0;34m-\u001b[0m\u001b[0;36m1\u001b[0m\u001b[0;34m\u001b[0m\u001b[0;34m\u001b[0m\u001b[0m\n\u001b[0;32m-> 4671\u001b[0;31m     \u001b[0;32mreturn\u001b[0m \u001b[0mconcatenate\u001b[0m\u001b[0;34m(\u001b[0m\u001b[0;34m(\u001b[0m\u001b[0marr\u001b[0m\u001b[0;34m,\u001b[0m \u001b[0mvalues\u001b[0m\u001b[0;34m)\u001b[0m\u001b[0;34m,\u001b[0m \u001b[0maxis\u001b[0m\u001b[0;34m=\u001b[0m\u001b[0maxis\u001b[0m\u001b[0;34m)\u001b[0m\u001b[0;34m\u001b[0m\u001b[0;34m\u001b[0m\u001b[0m\n\u001b[0m\u001b[1;32m   4672\u001b[0m \u001b[0;34m\u001b[0m\u001b[0m\n\u001b[1;32m   4673\u001b[0m \u001b[0;34m\u001b[0m\u001b[0m\n",
      "\u001b[0;32m<__array_function__ internals>\u001b[0m in \u001b[0;36mconcatenate\u001b[0;34m(*args, **kwargs)\u001b[0m\n",
      "\u001b[0;31mKeyboardInterrupt\u001b[0m: "
     ]
    }
   ],
   "source": [
    "vymin=1.500   \n",
    "vymax=2.500 \n",
    "maxiter=100\n",
    "for iter in range(maxiter):\n",
    "    xp=[]\n",
    "    yp=[]\n",
    "    vy=(vymin+vymax)/2.\n",
    "    y=[0.,vy]\n",
    "    x=0\n",
    "    while(x<xend):\n",
    "        y = rk4(x,h,y,2)\n",
    "        xp=np.append(xp,x)\n",
    "        yp=np.append(yp,y[0])\n",
    "        if(y[0]>1):    #if y is greater than 1 we've gone too far\n",
    "            '''I cannot get this condition to work'''\n",
    "            y[0] /= y[1] - 1.e4\n",
    "            break\n",
    "        x = x+h\n",
    "    if(np.abs(y[0]-targety)<1.):\n",
    "        '''\n",
    "        This is when we have correct solution\n",
    "        '''\n",
    "        break\n",
    "    #below are the conditions to know which way to change the velocity\n",
    "    if y[0]<targety:\n",
    "        vymax=vy\n",
    "    else:\n",
    "        vymin=vy\n",
    "        \n",
    "    print(\"iter \",iter, \"vy\",vy,\" shoot point, target\",y[0],targety)\n",
    " \n",
    "print(\"vy\",vy)\n",
    "plt.show()\n",
    "plt.xlim(0.,1.0)\n",
    "plt.ylim(-1.0,1.5)\n",
    "plt.plot(xp,yp)\n",
    "plt.show()"
   ]
  },
  {
   "cell_type": "code",
   "execution_count": null,
   "metadata": {},
   "outputs": [],
   "source": []
  }
 ],
 "metadata": {
  "kernelspec": {
   "display_name": "Python 3",
   "language": "python",
   "name": "python3"
  },
  "language_info": {
   "codemirror_mode": {
    "name": "ipython",
    "version": 3
   },
   "file_extension": ".py",
   "mimetype": "text/x-python",
   "name": "python",
   "nbconvert_exporter": "python",
   "pygments_lexer": "ipython3",
   "version": "3.8.3"
  }
 },
 "nbformat": 4,
 "nbformat_minor": 4
}
