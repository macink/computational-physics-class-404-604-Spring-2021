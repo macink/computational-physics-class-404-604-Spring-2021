{
 "cells": [
  {
   "cell_type": "markdown",
   "metadata": {},
   "source": [
    "# Homework Lecture 5\n",
    "\n",
    "Use Newton-Raphson method to solve the following equation arrays:\n",
    "\n",
    "Find the solution for  \n",
    "\\begin{eqnarray}\n",
    "x_{1}^2+x_{1}x_{2}=10\\\\\n",
    "x_{2}+3x_{1}x_{2}^2=57\n",
    "\\end{eqnarray}"
   ]
  },
  {
   "cell_type": "code",
   "execution_count": 1,
   "metadata": {},
   "outputs": [],
   "source": [
    "# Homework: using Newton-Raphson method to solve above equation arrays\n",
    "# Hint: first you need to derive the partical derivative of the equation arrays. You can do it either \n",
    "# analytically by hand or numerically using method we learned in the last lecture."
   ]
  },
  {
   "cell_type": "markdown",
   "metadata": {},
   "source": [
    "## From Lecture notes\n",
    "\n",
    "### Numerical Solutions\n",
    "\\begin{equation}\n",
    "f_{i}(x_{1},x_{2},...,x_{N})=0, \\qquad i=1,2,....,N\n",
    "\\end{equation}\n",
    "\n",
    "\\begin{equation}\n",
    "{\\bf f(y)}=\\left[ \\begin{array}{c} f_{1}(\\bf{y}) \\\\ f_{2}(\\bf{y})  \\end{array}\\right] = \\left[ \\begin{array}{c} x_{1}^2+x_{1}x_{2}-10 \\\\ x_{2}+3x_{1}x_{2}^2-57 \\end{array}\\right] =0 \n",
    "\\end{equation}\n",
    "\n",
    "Make a guess ($x_{1},x_{2}$), and then correct it ($\\Delta x_{1},\\Delta x_{2}$), we have\n",
    "\\begin{equation}\n",
    "f_{i}(x_{1}+\\Delta x_{1}, x_{2}+\\Delta x_{2})=0 \\qquad, i=1,2\n",
    "\\end{equation}\n",
    "We can expand it using Taylor series\n",
    "\\begin{equation}\n",
    "f_{i}(x_{1}+\\Delta x_{1}, x_{2}+\\Delta x_{2})\\simeq f_{i}(x_{1},x_{2})+\\frac{\\partial f_{i}}{\\partial x_{1}}\\Delta x_{1}+\\frac{\\partial f_{i}}{\\partial x_{2}}\\Delta x_{2}=0 \\qquad i=1,2\n",
    "\\end{equation}\n",
    "\n",
    "\\begin{equation}\n",
    "\\left[ \\begin{array}{c} f_{1}\\\\ f_{2} \\end{array}\\right] + \\begin{bmatrix} \\partial f_{1}/\\partial x_{1} & \\partial f_{1}/\\partial x_{2}  \\\\ \\partial f_{2}/\\partial x_{1} & \\partial f_{2}/\\partial x_{2} \\end{bmatrix}\\left[ \\begin{array}{c} \\Delta x_{1} \\\\ \\Delta x_{2}  \\end{array}\\right] =0 \n",
    "\\end{equation}\n",
    "\n",
    "So we want to solve the matrix equation\n",
    "\\begin{equation}\n",
    "F'\\Delta {\\bf{x}}=-\\bf{f}\n",
    "\\end{equation}\n",
    "Here we use bold font for a vector, the captal letter to represent a matrix\n",
    "\n",
    "For 2x2 array,\n",
    "\\begin{equation}\n",
    " \\begin{bmatrix} a & b \\\\c & d \\end{bmatrix}\\left[ \\begin{array}{c} \\Delta x_{1} \\\\ \\Delta x_{2}  \\end{array}\\right] =-\\left[ \\begin{array}{c} f_{1}\\\\ f_{2} \\end{array}\\right] \n",
    "\\end{equation}\n",
    "The solution is\n",
    "\\begin{eqnarray}\n",
    "\\Delta x_1=\\frac{bf_2-df_1}{ad-bc}\\\\\n",
    "\\Delta x_2=\\frac{cf_1-af_2}{ad-bc}\n",
    "\\end{eqnarray}"
   ]
  },
  {
   "cell_type": "markdown",
   "metadata": {},
   "source": [
    "### Analytically take partial derivatives\n",
    "Equations:\n",
    "\\begin{eqnarray}\n",
    "f_1 = x^2_1 + x_1x_2 - 10\\\\\n",
    "f_2 = x_2 + 3 x_1 x^2_2 - 57\n",
    "\\end{eqnarray}\n",
    "The partial derivatives are:\n",
    "\\begin{eqnarray}\n",
    "\\frac{\\partial f_1}{\\partial x_1} &=& 2x_1 + x_2 = a\\\\\n",
    "\\frac{\\partial f_1}{\\partial x_2} &=& x_1 = b\\\\\n",
    "\\frac{\\partial f_2}{\\partial x_1} &=& 3 x^2_2 = c\\\\\n",
    "\\frac{\\partial f_2}{\\partial x_2} &=& 1 + 6x_1 x_2 = d\n",
    "\\end{eqnarray}"
   ]
  },
  {
   "cell_type": "markdown",
   "metadata": {},
   "source": [
    "### First make a plot"
   ]
  },
  {
   "cell_type": "code",
   "execution_count": 1,
   "metadata": {},
   "outputs": [
    {
     "data": {
      "image/png": "[encoded data removed]",
      "text/plain": [
       "<Figure size 432x288 with 1 Axes>"
      ]
     },
     "metadata": {
      "needs_background": "light"
     },
     "output_type": "display_data"
    },
    {
     "name": "stdout",
     "output_type": "stream",
     "text": [
      "We can see that x1 should be 2 and x2 should be 3\n"
     ]
    }
   ],
   "source": [
    "import matplotlib.pyplot as plt\n",
    "import numpy as np\n",
    "\n",
    "def f1(x):\n",
    "    return (10.-x*x)/x\n",
    "\n",
    "def f2(x):\n",
    "    return (-1+np.sqrt(1.+4.*3.*x*57))/6./x\n",
    "\n",
    "x1=np.arange(0.00001,3.0,0.05)\n",
    "x2=np.arange(0.00001,3.0,0.05)\n",
    "\n",
    "s1=f1(x1)\n",
    "s2=f2(x2)\n",
    "\n",
    "plt.plot(x1, s1)\n",
    "plt.plot(x2,s2)\n",
    "plt.xlim(0.0,3.0)\n",
    "plt.ylim(0.0,10.0)\n",
    "plt.title('f1(x) and f2(x)', fontsize=12)\n",
    "plt.xlabel('x1', fontsize=12)\n",
    "plt.ylabel('x2',fontsize=12)\n",
    "\n",
    "plt.show()\n",
    "print('We can see that x1 should be 2 and x2 should be 3')"
   ]
  },
  {
   "cell_type": "code",
   "execution_count": 2,
   "metadata": {},
   "outputs": [
    {
     "name": "stdout",
     "output_type": "stream",
     "text": [
      "Root is at 1.9999999999999984  after  3  iterations, with a precision of  4.440892098500626e-15\n",
      "This means that x2=f(x1)= 3.0000000000000053\n",
      "None\n"
     ]
    }
   ],
   "source": [
    "def fun(x):\n",
    "    '''\n",
    "    this is f1-f2 that I will use the calcualte the intersection points\n",
    "    '''\n",
    "    return ((10.-x*x)/x)-((-1+np.sqrt(1.+4.*3.*x*57))/6./x)\n",
    "\n",
    "def Newton_Raphson(x0,dx,Nmax, eps,f):\n",
    "    '''\n",
    "    function to calcualte the roots or intersection of functions \n",
    "    using the Newton-Raphson backtracking method\n",
    "    '''\n",
    "    for i in range(0,Nmax):        \n",
    "        df = (f(x0+dx/2)-f(x0-dx/2))/dx #derivative of function using central difference\n",
    "        dxt = -f(x0)/df \n",
    "        while (abs(f(x0+dxt))>abs(f(x0))):\n",
    "              dxt=dxt/2.\n",
    "        x0 = x0+dxt  #new guess\n",
    "        if(abs(f(x0))<eps):\n",
    "              print(\"Root is at\",x0,\" after \",i,\" iterations, with a precision of \",abs(f(x0)))\n",
    "              break\n",
    "    return print('This means that x2=f(x1)=',f1(x0))\n",
    "\n",
    "dx=1.e-6\n",
    "nmax=100\n",
    "eps=1.e-8\n",
    "\n",
    "guess_x1=1.7\n",
    "print(Newton_Raphson(guess_x1,dx,nmax,eps,fun))"
   ]
  },
  {
   "cell_type": "code",
   "execution_count": 54,
   "metadata": {},
   "outputs": [
    {
     "name": "stdout",
     "output_type": "stream",
     "text": [
      "x [2.012713   3.06026513]\n",
      "x [1.99982599 3.00107354]\n",
      "x [1.99999994 3.00000014]\n",
      "x [2. 3.]\n",
      "x [2. 3.]\n",
      "Root is at [2. 3.]  after  4  iterations, with a precision of  1.2304520546089547e-15\n",
      "[2. 3.]\n"
     ]
    }
   ],
   "source": [
    "def F(x,f):\n",
    "    f[0]=x[0]*x[0]+x[0]*x[1]-10.\n",
    "    f[1]=x[1]+3.*x[0]*x[1]*x[1]-57.\n",
    "\n",
    "x=[1.7,2.7]  #inital guesses for x1 and x2\n",
    "f=[0.,0.]\n",
    "\n",
    "dx=1.e-6\n",
    "nmax=100\n",
    "eps=1.e-8\n",
    "\n",
    "def Newton_Raphson_4(x,dx,Nmax, eps,f):\n",
    "    for i in range(0,Nmax):  \n",
    "        #partial derivatives\n",
    "        a=2.*x[0]+x[1]\n",
    "        b=x[0]\n",
    "        c=3.*x[1]**2\n",
    "        d=1.+6.*x[0]*x[1]\n",
    "        F(x,f)                             #need to call function\n",
    "        dx1=(b*f[1] - d*f[0])/(a*d - b*c)  #delta x1\n",
    "        dx2=(c*f[0] - a*f[1])/(a*d - b*c)  #delta x2\n",
    "        x=x+np.array([dx1,dx2])            #new guess\n",
    "        print('x',x)\n",
    "        if(max(abs(dx1),abs(dx2))<eps):\n",
    "            print(\"Root is at\",x,\" after \",i,\" iterations, with a precision of \",max(abs(dx1),abs(dx2)))\n",
    "            break\n",
    "    return x\n",
    "\n",
    "print(Newton_Raphson_4(x,dx,nmax,eps,f))"
   ]
  },
  {
   "cell_type": "code",
   "execution_count": null,
   "metadata": {},
   "outputs": [],
   "source": []
  }
 ],
 "metadata": {
  "kernelspec": {
   "display_name": "Python 3",
   "language": "python",
   "name": "python3"
  },
  "language_info": {
   "codemirror_mode": {
    "name": "ipython",
    "version": 3
   },
   "file_extension": ".py",
   "mimetype": "text/x-python",
   "name": "python",
   "nbconvert_exporter": "python",
   "pygments_lexer": "ipython3",
   "version": "3.8.3"
  }
 },
 "nbformat": 4,
 "nbformat_minor": 4
}
