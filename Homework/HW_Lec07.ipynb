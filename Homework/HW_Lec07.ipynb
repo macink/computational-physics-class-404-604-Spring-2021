{
 "cells": [
  {
   "cell_type": "markdown",
   "metadata": {},
   "source": [
    "# Homework Lecture 7\n",
    "\n",
    "Calculate a one variable problem.\n",
    "\n",
    "A person throws a ball upwards from the ground at speed of 10 $\\frac{m}{s}$.\n",
    "Calculate the trajectory using Runge-Katta method and plot height (z) vs time (t).\n",
    "\n",
    "Using a free-body diagram, we know that the only force acting on the ball is the gravitational force (mg).\n",
    "Using Newtons second law\n",
    "\\begin{eqnarray}\n",
    "F &=& mg\\\\\n",
    "ma &=& mg\\\\\n",
    "a &=& g\\\\\n",
    "\\frac{d^2 z(t)}{dt^2} &=& g.\n",
    "\\end{eqnarray}\n",
    "\n",
    "This is an ordinary differential equation with only one independent variable (time, t).\n",
    "\n",
    "Now we will break it up\n",
    "\\begin{eqnarray}\n",
    "\\frac{dz(t)}{dt} &=& v_z\\\\\n",
    "\\frac{dv_z}{dt} &=& g\n",
    "\\end{eqnarray}"
   ]
  },
  {
   "cell_type": "markdown",
   "metadata": {},
   "source": [
    "### 2. Runge-Kutta Rule\n",
    "\n",
    "Based on integral\n",
    "\\begin{equation}\n",
    "{\\bf z}(t)=\\int {\\bf f}(t,z)dt\n",
    "\\end{equation}\n",
    "So\n",
    "\\begin{equation}\n",
    "{\\bf z}_{n+1}={\\bf z}_{n}+\\int_{t_{n}}^{t_{n+1}}{\\bf f}(t,z)dt\n",
    "\\end{equation}\n",
    "\n",
    "RK 2 is\n",
    "\\begin{equation}\n",
    "{\\bf z}_{n+1}\\simeq {\\bf z}_{n}+{\\bf f}(t_{n+1/2},z_{n+1/2})h+O(h^3)\n",
    "\\end{equation}\n",
    "and ${\\bf f}(t_{n+1/2},z_{n+1/2})$ is derived with Euler method.\n",
    "\\begin{eqnarray}\n",
    "{\\bf z}_{n+1}&\\simeq &{\\bf z}_{n}+{\\bf k_{2}}\\\\\n",
    "{\\bf k_{2}}&=&h {\\bf f}(t_{n}+h/2,{\\bf z}_{n}+\\frac{{\\bf k_{1}}}{2})\\qquad {\\bf k}_{1}=h{\\bf f}(t_n,{\\bf z}_{n})\n",
    "\\end{eqnarray}\n",
    "\n",
    "RK 4 is\n",
    "\\begin{eqnarray}\n",
    "{\\bf z}_{n+1}&\\simeq &{\\bf z}_{n}+\\frac{1}{6}({\\bf k_{1}}+2{\\bf k_{2}}+2{\\bf k_{3}}+{\\bf k_{4}})\\\\\n",
    "{\\bf k}_{1}&=&h{\\bf f}(t_n,{\\bf z}_{n})\\\\\n",
    "{\\bf k_{2}}&=&h {\\bf f}(t_{n}+h/2,{\\bf z}_{n}+\\frac{{\\bf k_{1}}}{2})\\\\\n",
    "{\\bf k_{3}}&=&h {\\bf f}(t_{n}+h/2,{\\bf z}_{n}+\\frac{{\\bf k_{2}}}{2})\\\\\n",
    "{\\bf k_{4}}&=&h {\\bf f}(t_{n}+h,{\\bf z}_{n}+{\\bf k_{3}})\n",
    "\\end{eqnarray}"
   ]
  },
  {
   "cell_type": "code",
   "execution_count": 21,
   "metadata": {},
   "outputs": [
    {
     "data": {
      "image/png": "[encoded data removed]",
      "text/plain": [
       "<Figure size 432x288 with 1 Axes>"
      ]
     },
     "metadata": {
      "needs_background": "light"
     },
     "output_type": "display_data"
    }
   ],
   "source": [
    "import numpy as np\n",
    "import matplotlib.pyplot as plt\n",
    "\n",
    "#initial conditions\n",
    "g=-9.8\n",
    "t_final=2.5\n",
    "h=0.001\n",
    "z=[0.,10.]  #z=0 where the ball is thrown from the ground at z=0 with velocity vs=10 m/s\n",
    "t=0\n",
    "\n",
    "def f(t, z):\n",
    "    '''\n",
    "    function we are going to calculate\n",
    "    '''\n",
    "    f=np.zeros(2)\n",
    "    f[0]=z[1]\n",
    "    f[1]=g\n",
    "    return f\n",
    " \n",
    "def R_K_4(t, h, z, n):\n",
    "    '''\n",
    "    function to use the Runge-Kutta method to solve an ordinary differential equation\n",
    "    this function will update the functions\n",
    "    '''\n",
    "    k1 = np.zeros(n)\n",
    "    k2 = np.zeros(n)\n",
    "    k3 = np.zeros(n)\n",
    "    k4 = np.zeros(n)\n",
    "    k1=h*f(t,z)\n",
    "    k2=h*f(t+0.5*h,z+0.5*k1)\n",
    "    k3=h*f(t+0.5*h,z+0.5*k2)\n",
    "    k4=h*f(t+0.5*h,z+k3)\n",
    "    z+=(k1+2*k2+2*k3+k4)/6\n",
    "    return z\n",
    "\n",
    "z_values=[]\n",
    "time_values=[]\n",
    "\n",
    "#This will store our variables\n",
    "while(t<t_final):\n",
    "    if((t+h)>t_final):\n",
    "        h=t_final-t\n",
    "    z = R_K_4(t,h,z,10)\n",
    "    z_values=np.append(z_values,z[0])\n",
    "    time_values=np.append(time_values,t)\n",
    "    t = t+h\n",
    "\n",
    "plt.plot(time_values,z_values)\n",
    "plt.xlabel('time', fontsize=12)\n",
    "plt.ylim(0,6)\n",
    "plt.ylabel('z(t)', fontsize=12)\n",
    "plt.title('Height vs Time', fontsize=14)\n",
    "plt.show()"
   ]
  },
  {
   "cell_type": "markdown",
   "metadata": {},
   "source": [
    "So we can see from the plot that our Runge-Kutta method successfully plotted the trajectory of a ball that starts at z=o and returns to the gound just after two seconds."
   ]
  },
  {
   "cell_type": "code",
   "execution_count": 27,
   "metadata": {},
   "outputs": [
    {
     "data": {
      "image/png": "[encoded data removed]",
      "text/plain": [
       "<Figure size 432x288 with 1 Axes>"
      ]
     },
     "metadata": {
      "needs_background": "light"
     },
     "output_type": "display_data"
    }
   ],
   "source": [
    "Oh=[]\n",
    "error=[]\n",
    "\n",
    "for h in 10.**np.arange(0.,2.5,0.2):\n",
    "    Oh=np.append(Oh,h)\n",
    "    g=-9.8\n",
    "    t_final=2.5\n",
    "    z=[0.,10.]\n",
    "    t=0\n",
    "    while(t<t_final):\n",
    "        if((t+h)>t_final):\n",
    "            h=t_final-t\n",
    "        y = R_K_4(t,h,z,10)\n",
    "        t = t+h\n",
    "    error=np.append(error,abs(z[0]-1.))\n",
    "\n",
    "plt.plot(Oh,error)\n",
    "plt.xscale('log')\n",
    "plt.yscale('log')\n",
    "plt.show()"
   ]
  },
  {
   "cell_type": "markdown",
   "metadata": {},
   "source": [
    "# Homework for graduate students:\n",
    "\n",
    "Write your own Euler or any scheme to calculate the orbit of two equal mass binary.\n",
    "The mass of each binary makes GM_{i}=1, (i is 1 or 2). \n",
    "The two binary stars are seperated by a distance of 1 initially. \n",
    "Initialize the binary velocity so that each binary star will have an eccentricity of 0.0. Evolve this system to 100 binary orbits, and plot their orbits in the x-y plane. "
   ]
  },
  {
   "cell_type": "code",
   "execution_count": null,
   "metadata": {},
   "outputs": [],
   "source": [
    "d=1\n"
   ]
  }
 ],
 "metadata": {
  "kernelspec": {
   "display_name": "Python 3",
   "language": "python",
   "name": "python3"
  },
  "language_info": {
   "codemirror_mode": {
    "name": "ipython",
    "version": 3
   },
   "file_extension": ".py",
   "mimetype": "text/x-python",
   "name": "python",
   "nbconvert_exporter": "python",
   "pygments_lexer": "ipython3",
   "version": "3.8.3"
  }
 },
 "nbformat": 4,
 "nbformat_minor": 4
}
