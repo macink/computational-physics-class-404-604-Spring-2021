{
 "cells": [
  {
   "cell_type": "markdown",
   "metadata": {},
   "source": [
    "# Homework Lecture 4:\n",
    "\n",
    "Write a program to numerically evaluate the derivative of f(x)=cos x at an arbitrary position x.\n",
    "\n",
    "1) Evaluate the derivative at position x using the forward difference scheme. Plot log(Error)=log10|f’(numerically)-f’(analytic)| against log10(dx) for dx=1e-16,1e-15,….,0.1 at x=π/4. You should find Error~$dx^n$; what is n? what is the optimal value for dx.\n",
    "\n",
    "2) Repeat the exercise using the central difference scheme. Why this scheme is better?\n",
    "\n",
    "3) Repeat (2) for x=0. Why do the results differ? (hint: write out the error term derived in the class explicitly by plugging the derivative of cos or sin)"
   ]
  },
  {
   "cell_type": "markdown",
   "metadata": {},
   "source": [
    "### Forward difference:\n",
    "\\begin{equation}\n",
    "\\frac{d y(t)}{dt}_{fw} = \\frac{y(t+h)-y(t)}{h}\n",
    "\\end{equation}\n",
    "\n",
    "For the code we will let $h = dx$ and $t = x$\n",
    "1) Evaluate the derivative at position x using the forward difference scheme."
   ]
  },
  {
   "cell_type": "code",
   "execution_count": 1,
   "metadata": {},
   "outputs": [],
   "source": [
    "from pylab import *\n",
    "import numpy as np\n",
    "\n",
    "def dforward(y,x,dx):\n",
    "    '''\n",
    "    function to calculate the derivative using the forward difference scheme\n",
    "    '''\n",
    "    return (y(x+dx)-y(x))/dx"
   ]
  },
  {
   "cell_type": "markdown",
   "metadata": {},
   "source": [
    "Plot log(Error)=log10|f’(numerically)-f’(analytic)| against log10(dx) for dx=1e-16,1e-15,….,0.1 at x=π/4. You should find Error~$dx^n$; what is n? what is the optimal value for dx.\n",
    "\n",
    "- First we have to make an array of f(x) and dx values to store the points for the plot"
   ]
  },
  {
   "cell_type": "code",
   "execution_count": 4,
   "metadata": {},
   "outputs": [
    {
     "name": "stdout",
     "output_type": "stream",
     "text": [
      "dx 1e-16,  y -1.11022\n",
      "dx 1e-15,  y -0.777156\n",
      "dx 1e-14,  y -0.710543\n",
      "dx 1e-13,  y -0.707212\n",
      "dx 1e-12,  y -0.707101\n",
      "dx 1e-11,  y -0.707112\n",
      "dx 1e-10,  y -0.707107\n",
      "dx 1e-09,  y -0.707107\n",
      "dx 1e-08,  y -0.707107\n",
      "dx 1e-07,  y -0.707107\n",
      "dx 1e-06,  y -0.707107\n",
      "dx 1e-05,  y -0.70711\n",
      "dx 0.0001,  y -0.707142\n",
      "dx 0.001,  y -0.70746\n",
      "dx 0.01,  y -0.710631\n",
      "dx 0.1,  y -0.741255\n",
      "\n",
      " The analytic result is -sin(pi/4)= -0.7071067811865475\n"
     ]
    }
   ],
   "source": [
    "x=pi/4.0\n",
    "dx=[]\n",
    "y=[]\n",
    "for dX in 10**np.arange(-16., 0., 1.0):\n",
    "    Y=dforward(cos,x,dX)\n",
    "    #Check that the dx values are correct\n",
    "    print('dx %g,  y %g'%(dX,Y))\n",
    "    dx.append(dX)\n",
    "    y.append(Y)\n",
    "    \n",
    "print('\\n The analytic result is -sin(pi/4)=', (-sin(pi/4.0)))"
   ]
  },
  {
   "cell_type": "markdown",
   "metadata": {},
   "source": [
    "- Now we will calculate the error and make the plot"
   ]
  },
  {
   "cell_type": "code",
   "execution_count": 19,
   "metadata": {},
   "outputs": [
    {
     "name": "stdout",
     "output_type": "stream",
     "text": [
      "error: [4.03116243e-01 7.00493361e-02 3.43595457e-03 1.05285500e-04\n",
      " 5.73680279e-06 5.36542746e-06 1.85687662e-07 3.63569428e-08\n",
      " 1.41524823e-08 3.52467198e-08 3.53547661e-07 3.53552457e-06\n",
      " 3.53541612e-05 3.53435510e-04 3.52371939e-03 3.41479639e-02]\n"
     ]
    },
    {
     "data": {
      "image/png": "[encoded data removed]",
      "text/plain": [
       "<Figure size 432x288 with 1 Axes>"
      ]
     },
     "metadata": {
      "needs_background": "light"
     },
     "output_type": "display_data"
    }
   ],
   "source": [
    "#error=f(numerical)-f(analytic)\n",
    "error=abs(y+sin(pi/4.0))\n",
    "print('error:',error)\n",
    "\n",
    "plt.plot(dx, error)\n",
    "plt.xscale('log') #this is the dx axis that should be log(dx)\n",
    "plt.yscale('log') #this is the error axis that should be log(error)\n",
    "plt.title('Error vs dx', fontsize=14)\n",
    "plt.xlabel('dx', fontsize=14)\n",
    "plt.ylabel('Error', fontsize=14)\n",
    "plt.show()"
   ]
  },
  {
   "cell_type": "markdown",
   "metadata": {},
   "source": [
    "From the plot we can see that the best value for dx is about $10^{-8}$.\n",
    "Since the error is of the first order $O(h)$, the error is approximately equal to $dx^1$.\n",
    "I am confused a little becuase I know that the error is supposed to be linear but this plot is more quadratic.\n",
    "I'm not sure if I made a mistake somewhere or what."
   ]
  },
  {
   "cell_type": "markdown",
   "metadata": {},
   "source": [
    "2) Repeat the exercise using the central difference scheme. Why this scheme is better?\n",
    "\n",
    "\\begin{equation}\n",
    "\\frac{d y(t)}{dt}_{cd} = \\frac{y(t+h/2)-y(t-h/2)}{h}\n",
    "\\end{equation}"
   ]
  },
  {
   "cell_type": "code",
   "execution_count": 8,
   "metadata": {},
   "outputs": [
    {
     "name": "stdout",
     "output_type": "stream",
     "text": [
      "dx 1e-16,  y 0\n",
      "dx 1e-15,  y -0.777156\n",
      "dx 1e-14,  y -0.710543\n",
      "dx 1e-13,  y -0.706102\n",
      "dx 1e-12,  y -0.707212\n",
      "dx 1e-11,  y -0.707101\n",
      "dx 1e-10,  y -0.707107\n",
      "dx 1e-09,  y -0.707107\n",
      "dx 1e-08,  y -0.707107\n",
      "dx 1e-07,  y -0.707107\n",
      "dx 1e-06,  y -0.707107\n",
      "dx 1e-05,  y -0.707107\n",
      "dx 0.0001,  y -0.707107\n",
      "dx 0.001,  y -0.707107\n",
      "dx 0.01,  y -0.707104\n",
      "dx 0.1,  y -0.706812\n",
      "\n",
      " The analytic result is -sin(pi/4)= -0.7071067811865475\n"
     ]
    }
   ],
   "source": [
    "def dcentral(y,x,dx):\n",
    "    '''\n",
    "    function to calculate the derivative using central difference scheme\n",
    "    '''\n",
    "    return (y(x+(dx/2))-y(x-(dx/2)))/dx\n",
    "\n",
    "dx2=[]\n",
    "y2=[]\n",
    "for dX2 in 10**np.arange(-16., 0., 1.0):\n",
    "    Y2=dcentral(cos,x,dX2)\n",
    "    #Check that the dx values are correct\n",
    "    print('dx %g,  y %g'%(dX2,Y2))\n",
    "    dx2.append(dX2)\n",
    "    y2.append(Y2)\n",
    "\n",
    "print('\\n The analytic result is -sin(pi/4)=', (-sin(pi/4.0)))"
   ]
  },
  {
   "cell_type": "code",
   "execution_count": 9,
   "metadata": {},
   "outputs": [
    {
     "name": "stdout",
     "output_type": "stream",
     "text": [
      "error: [7.07106781e-01 7.00493361e-02 3.43595457e-03 1.00493752e-03\n",
      " 1.05285500e-04 5.73680279e-06 1.85687662e-07 3.63569428e-08\n",
      " 8.05197820e-09 8.29806002e-10 5.83724180e-11 2.86137780e-12\n",
      " 2.94849922e-10 2.94628513e-08 2.94627458e-06 2.94590999e-04]\n"
     ]
    },
    {
     "data": {
      "image/png": "[encoded data removed]",
      "text/plain": [
       "<Figure size 432x288 with 1 Axes>"
      ]
     },
     "metadata": {
      "needs_background": "light"
     },
     "output_type": "display_data"
    }
   ],
   "source": [
    "error2=abs(y2+sin(x))\n",
    "print('error:',error2)\n",
    "\n",
    "plt.plot(dx2, error2)\n",
    "plt.xscale('log')\n",
    "plt.yscale('log')\n",
    "plt.title('Error vs dx', fontsize=14)\n",
    "plt.xlabel('dx', fontsize=14)\n",
    "plt.ylabel('Error', fontsize=14)\n",
    "plt.show()"
   ]
  },
  {
   "cell_type": "markdown",
   "metadata": {},
   "source": [
    "Since the error is proportional to dx, the central difference error is smaller because for the formula we take $\\frac{dx}{2}$. So we are taking the difference of only half a step forward and half a step back.\n",
    "\n",
    "We can see from the plot that the best value for dx is $10^{-5}$, this is another reason why this scheme is better, because we can have a larger dx and get less error.\n",
    "Since the error is of the second order $O(h^2)$, the error is approximately equal to $dx^2$ which is smaller than for a first order error."
   ]
  },
  {
   "cell_type": "markdown",
   "metadata": {},
   "source": [
    "3) Repeat (2) for x=0. Why do the results differ? (hint: write out the error term derived in the class explicitly by plugging the derivative of cos or sin)"
   ]
  },
  {
   "cell_type": "markdown",
   "metadata": {},
   "source": [
    "The error for Central Difference is $O(h^2)$, so we will explicitly plug in the values to\n",
    "\\begin{equation}\n",
    "O(h^2) = \\frac{h^2}{4 \\cdot 3!} * y'''(t) + \\frac{h^4}{16 \\cdot 5!} y'''''(t)+...\n",
    "\\end{equation}\n",
    "Plugging in the values, we have\n",
    "\\begin{equation}\n",
    "O(h^2) = \\frac{h^2 sin(x)}{24} - \\frac{h^4 sin(x)}{1920}.\n",
    "\\end{equation}"
   ]
  },
  {
   "cell_type": "code",
   "execution_count": 11,
   "metadata": {},
   "outputs": [
    {
     "name": "stdout",
     "output_type": "stream",
     "text": [
      "dx 1e-16,  y 0\n",
      "dx 1e-15,  y 0\n",
      "dx 1e-14,  y 0\n",
      "dx 1e-13,  y 0\n",
      "dx 1e-12,  y 0\n",
      "dx 1e-11,  y 0\n",
      "dx 1e-10,  y 0\n",
      "dx 1e-09,  y 0\n",
      "dx 1e-08,  y 0\n",
      "dx 1e-07,  y 0\n",
      "dx 1e-06,  y 0\n",
      "dx 1e-05,  y 0\n",
      "dx 0.0001,  y 0\n",
      "dx 0.001,  y 0\n",
      "dx 0.01,  y 0\n",
      "dx 0.1,  y 0\n",
      "\n",
      " error: [0. 0. 0. 0. 0. 0. 0. 0. 0. 0. 0. 0. 0. 0. 0. 0.]\n"
     ]
    },
    {
     "name": "stderr",
     "output_type": "stream",
     "text": [
      "<ipython-input-11-4617b6d8384a>:16: UserWarning: Data has no positive values, and therefore cannot be log-scaled.\n",
      "  plt.yscale('log')\n"
     ]
    },
    {
     "data": {
      "image/png": "[encoded data removed]",
      "text/plain": [
       "<Figure size 432x288 with 1 Axes>"
      ]
     },
     "metadata": {
      "needs_background": "light"
     },
     "output_type": "display_data"
    }
   ],
   "source": [
    "x3=0\n",
    "dx3=[]\n",
    "y3=[]\n",
    "for dX3 in 10**np.arange(-16., 0., 1.0):\n",
    "    Y3=dcentral(cos,x3,dX3)\n",
    "    #Check that the dx values are correct\n",
    "    print('dx %g,  y %g'%(dX3,Y3))\n",
    "    dx3.append(dX3)\n",
    "    y3.append(Y3)\n",
    "    \n",
    "error3=abs(y3+sin(x3))\n",
    "print('\\n error:',error3)\n",
    "\n",
    "plt.plot(dx3, error3)\n",
    "plt.xscale('log')\n",
    "plt.yscale('log')\n",
    "plt.title('Error vs dx', fontsize=14)\n",
    "plt.xlabel('dx', fontsize=14)\n",
    "plt.ylabel('Error', fontsize=14)\n",
    "plt.show()"
   ]
  },
  {
   "cell_type": "markdown",
   "metadata": {},
   "source": [
    "The error is zero because the derivative of $cos(x)$ is $-sin(x)$.\n",
    "If we plug zero in, $-sin(0)=0$.\n",
    "When we compute the central difference, our terms drop to zero which is the same as the analytic answer.\n",
    "This is different from using another value because when $x=0$ for $sin(x)$ we will get zero and same for $x=\\frac{\\pi}{2}$ for $cos(x)$."
   ]
  },
  {
   "cell_type": "code",
   "execution_count": null,
   "metadata": {},
   "outputs": [],
   "source": []
  }
 ],
 "metadata": {
  "kernelspec": {
   "display_name": "Python 3",
   "language": "python",
   "name": "python3"
  },
  "language_info": {
   "codemirror_mode": {
    "name": "ipython",
    "version": 3
   },
   "file_extension": ".py",
   "mimetype": "text/x-python",
   "name": "python",
   "nbconvert_exporter": "python",
   "pygments_lexer": "ipython3",
   "version": "3.8.3"
  }
 },
 "nbformat": 4,
 "nbformat_minor": 4
}
