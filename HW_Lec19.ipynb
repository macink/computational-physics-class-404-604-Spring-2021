{
 "cells": [
  {
   "cell_type": "markdown",
   "metadata": {},
   "source": [
    "# Homework Lecture 19:\n",
    "\n",
    "Highly nonlinear oscillator:\n",
    "\n",
    "Recall the numerical solution for oscillations of a spring with power p = 12 (use F=-0.01*y[0]**11). Decompose the solution into a Fourier series and determine the number of higher harmonics that contribute at least 10%; for example, determine the n for which |bn /b1 | < 0.1. Check that resuming the components reproduces the signal. (Landau 289)\n",
    "\n",
    "Warning: please only sample the data within one period\n",
    "\n",
    "Landau, Rubin H., Manuel Páez, Cristian Bordeianu. Computational Physics: Problem Solving with Python, 3rd Edition. Wiley-Blackwell, 2015-07-15. VitalBook file.\n"
   ]
  },
  {
   "cell_type": "markdown",
   "metadata": {},
   "source": [
    "## Nonlinear Oscillator\n",
    "\n",
    "To solve it with RK method\n",
    "\\begin{equation}\n",
    "\\frac{dx}{dt}=v\\\\\n",
    "\\frac{dv}{dt}=F\n",
    "\\end{equation}\n",
    "\n",
    "the y vector is {x,v}, the force vector is {v,F}, so $d{\\bf y}/dt={\\bf F}$\n",
    "\n",
    "\\begin{equation}\n",
    "F = -0.01 x^{11}\n",
    "\\end{equation}\n",
    "\n",
    "where\n",
    "\n",
    "\\begin{equation}\n",
    "k =0.01\\\\\n",
    "y[0] = x^{11}\n",
    "\\end{equation}"
   ]
  },
  {
   "cell_type": "code",
   "execution_count": 1,
   "metadata": {},
   "outputs": [
    {
     "data": {
      "image/png": "[encoded data removed]",
      "text/plain": [
       "<Figure size 432x288 with 1 Axes>"
      ]
     },
     "metadata": {
      "needs_background": "light"
     },
     "output_type": "display_data"
    }
   ],
   "source": [
    "import numpy as np\n",
    "from cmath import *\n",
    "import matplotlib.pyplot as plt\n",
    "    \n",
    "    \n",
    "#   Initialization\n",
    "a = 0.\n",
    "b = 6.2832\n",
    "n = 1000      \n",
    "K = 0.01\n",
    "ydumb = np.zeros((2), float);    y = np.zeros((2), float)\n",
    "fReturn = np.zeros((2), float);  k1 = np.zeros((2), float)\n",
    "k2 = np.zeros((2), float);       k3 = np.zeros((2), float) \n",
    "k4 = np.zeros((2), float)\n",
    "y[0] = 0.;   y[1] = -1.\n",
    "t = a;       h = (b-a)/n;\n",
    "xp=np.array([0.0])\n",
    "yp=np.array([y[0]])\n",
    "\n",
    "def f( t, y):\n",
    "    '''\n",
    "    force function for nonlinear oscillator\n",
    "    '''\n",
    "    fReturn[0] =y[1]                                      \n",
    "    fReturn[1] =-K*y[0]**11 \n",
    "    return fReturn\n",
    "\n",
    "def rk4(t,h,n):   \n",
    "    '''\n",
    "    function for Runge-Kutta integration\n",
    "    '''\n",
    "    k1 = [0]*(n)\n",
    "    k2 = [0]*(n)\n",
    "    k3 = [0]*(n)\n",
    "    k4 = [0]*(n)\n",
    "    fR = [0]*(n)\n",
    "    ydumb = [0]*(n)\n",
    "    fR = f(t, y)                                             \n",
    "    for i in range(0, n):\n",
    "        k1[i] = h*fR[i]                             \n",
    "    for i in range(0, n):\n",
    "        ydumb[i] = y[i] + k1[i]/2. \n",
    "    k2 = h*f(t+h/2., ydumb) \n",
    "    for i in range(0, n):\n",
    "        ydumb[i] = y[i] + k2[i]/2. \n",
    "    k3 = h*f(t+h/2., ydumb)\n",
    "    for i in range(0, n):\n",
    "        ydumb[i] = y[i] + k3[i] \n",
    "    k4 = h*f(t+h, ydumb) \n",
    "    for i in range(0, 2):\n",
    "        y[i] = y[i] + (k1[i] + 2.*(k2[i] + k3[i]) + k4[i])/6.\n",
    "    return y    \n",
    "\n",
    "while (t < b):                                              \n",
    "    if ((t + h) > b):\n",
    "        h = b - t                                           \n",
    "    y = rk4(t,h,2)\n",
    "    t = t + h\n",
    "    xp=np.append(xp, t)\n",
    "    yp=np.append(yp,y[0])\n",
    "    \n",
    "plt.plot(xp,yp)\n",
    "plt.show()"
   ]
  },
  {
   "cell_type": "markdown",
   "metadata": {},
   "source": [
    "### Fourier Series\n",
    "\n",
    "\\begin{equation}\n",
    "a_n = \\frac{2}{T} \\int^T_0 dt cos(n \\omega t) y(x)\\\\\n",
    "b_n = \\frac{2}{T} \\int^T_0 dt sin(n \\omega t) y(x)\n",
    "\\end{equation}\n",
    "\n",
    "Our function is odd, therefore $a_n=0$.\n",
    "\n",
    "\\begin{equation}\n",
    "y(t) = \\frac{a_o}{2} + \\Sigma^{\\inf}_{n=1} (a_n cos(n \\omega t) + b_n sin(n \\omega t))\\\\\n",
    "= \\frac{2}{\\pi} (sin(\\omega t) - \\frac{1}{2} sin (2 \\omega t) + \\frac{1}{3} sin (3 \\omega t) +...)\n",
    "\\end{equation}\n"
   ]
  },
  {
   "cell_type": "code",
   "execution_count": 2,
   "metadata": {},
   "outputs": [
    {
     "data": {
      "image/png": "[encoded data removed]",
      "text/plain": [
       "<Figure size 432x288 with 1 Axes>"
      ]
     },
     "metadata": {
      "needs_background": "light"
     },
     "output_type": "display_data"
    },
    {
     "name": "stdout",
     "output_type": "stream",
     "text": [
      "Fourier series with 15 harmonics\n"
     ]
    }
   ],
   "source": [
    "from pylab import *\n",
    "\n",
    "Harmonics = 15\n",
    "T = 2*pi                                                                 \n",
    "s = 0.           \n",
    "plot(xp,yp,color='b')           \n",
    "\n",
    "def Fourier(Harmonics,T,xp):\n",
    "    '''\n",
    "    function to decompose force into Fourier series\n",
    "    using specified number of harmonics\n",
    "    '''\n",
    "    sumy = 0                                            \n",
    "    om = 2.*pi/T                                    \n",
    "    fac = 1\n",
    "    for m in range(1,Harmonics):         \n",
    "        fac = 1./m*(-1.)**(m+1) \n",
    "        '''\n",
    "        I cannot determine the proper factor, everytime I calculate\n",
    "        it, this is what I get and it is obviously not the right series\n",
    "        '''\n",
    "        sumy += fac* sin(m*om*xp)                       \n",
    "    sumy = (2./pi)*sumy                      \n",
    "    return sumy\n",
    "\n",
    "series = Fourier(Harmonics,T,xp)                                 \n",
    "l, = plt.plot(xp,series,lw=1, color='red')\n",
    "\n",
    "plt.axis([0, 2*pi, -4.0, 4.0])            \n",
    "xlabel('x')                                        \n",
    "ylabel('Signal')                                      \n",
    "title('Fourier Synthesis')\n",
    "grid(True)               \n",
    "\n",
    "plt.show()\n",
    "print('Fourier series with', Harmonics, 'harmonics')"
   ]
  },
  {
   "cell_type": "markdown",
   "metadata": {},
   "source": [
    "### Discrete Fourier Transform\n",
    "\n",
    "\\begin{equation}\n",
    "y(x) = -kx^{11}\\\\\n",
    "y_k = y(x_k)\\\\\n",
    "Y(\\omega_n) = h \\Sigma^N_{k=1} y_k \\frac{e ^{\\frac{-in2\\pi k}{N}}}{\\sqrt{2\\pi}}\n",
    "\\end{equation}"
   ]
  },
  {
   "cell_type": "code",
   "execution_count": 3,
   "metadata": {},
   "outputs": [
    {
     "data": {
      "image/png": "[encoded data removed]",
      "text/plain": [
       "<Figure size 432x288 with 1 Axes>"
      ]
     },
     "metadata": {
      "needs_background": "light"
     },
     "output_type": "display_data"
    },
    {
     "data": {
      "image/png": "[encoded data removed]",
      "text/plain": [
       "<Figure size 432x288 with 1 Axes>"
      ]
     },
     "metadata": {
      "needs_background": "light"
     },
     "output_type": "display_data"
    }
   ],
   "source": [
    "N = 500;                  Np = N                           \n",
    "signal = np.zeros( (N+1), float )     \n",
    "twopi  = 2.*pi;       sq2pi = 1./sqrt(twopi);         h = twopi/N\n",
    "dftz   = np.zeros( (Np), complex )               \n",
    "xa = np.zeros( (N+1), float )   \n",
    "nplot = np.zeros( N, float )   \n",
    "fplot = np.zeros( N, float ) \n",
    "\n",
    "step = 2.*pi/N\n",
    "\n",
    "def F(signal):\n",
    "    '''\n",
    "    function for the signal\n",
    "    y(xk) = yk\n",
    "    '''\n",
    "    x = 0. \n",
    "    for i in range(0, N+1):\n",
    "        signal[i] = -K*x**11\n",
    "        xa[i] = x                   \n",
    "        x += step\n",
    "        \n",
    "      \n",
    "def fourier(dftz):       \n",
    "    '''\n",
    "    function to do discrete Fourier transform\n",
    "    '''\n",
    "    for n in range(0, Np):              \n",
    "      zsum = complex(0.0, 0.0)                \n",
    "      for  k in range(0, N):                              \n",
    "          zexpo = complex(0, twopi*k*n/N)           \n",
    "          zsum += signal[k]*exp(-zexpo)           \n",
    "      dftz[n] = zsum * sq2pi      \n",
    "      nplot[n] = n/N/step\n",
    "      fplot[n] = dftz[n].imag*dftz[n].imag+dftz[n].real*dftz[n].real\n",
    "    return dftz\n",
    "    \n",
    "\n",
    "F(signal);       \n",
    "fun=fourier(dftz)              \n",
    "plt.plot(xa,signal)\n",
    "plt.show()\n",
    "plt.plot(nplot,fplot)\n",
    "plt.xlim([0.,3.])\n",
    "plt.show()"
   ]
  },
  {
   "cell_type": "markdown",
   "metadata": {},
   "source": [
    "### Reconstruction\n",
    "\n",
    "\\begin{equation}\n",
    "y(x_k) = \\Sigma^N_{n=11} \\frac{\\sqrt{2\\pi}}{N} e^{\\frac{in2\\pi k}{N}} Y(\\omega_n)\n",
    "\\end{equation}"
   ]
  },
  {
   "cell_type": "code",
   "execution_count": 4,
   "metadata": {},
   "outputs": [
    {
     "data": {
      "image/png": "[encoded data removed]",
      "text/plain": [
       "<Figure size 432x288 with 1 Axes>"
      ]
     },
     "metadata": {
      "needs_background": "light"
     },
     "output_type": "display_data"
    }
   ],
   "source": [
    "#I could not figure out how to reconstruct the signal,\n",
    "#I used this code from last semester when we leanred about fft\n",
    "#in Phys 300\n",
    "\n",
    "def reconstruct(c):\n",
    "    '''\n",
    "    This is a code to do inverse Fourier transform and bring back our old signal\n",
    "    '''\n",
    "    N = len(c)\n",
    "    y = np.zeros(N, complex)\n",
    "    for k in range(N):\n",
    "        for n in range(N):\n",
    "            y[k] += (sqrt(2*pi)/N)*c[n]*exp(2j*pi*k*n/N)\n",
    "    return y\n",
    "#Call the old dft function in reconstruct function to regain the signal\n",
    "r=reconstruct(fun).real\n",
    "plt.plot(r)\n",
    "plt.title('reconstruction of original signal')\n",
    "plt.show()"
   ]
  },
  {
   "cell_type": "code",
   "execution_count": null,
   "metadata": {},
   "outputs": [],
   "source": []
  }
 ],
 "metadata": {
  "kernelspec": {
   "display_name": "Python 3",
   "language": "python",
   "name": "python3"
  },
  "language_info": {
   "codemirror_mode": {
    "name": "ipython",
    "version": 3
   },
   "file_extension": ".py",
   "mimetype": "text/x-python",
   "name": "python",
   "nbconvert_exporter": "python",
   "pygments_lexer": "ipython3",
   "version": "3.8.3"
  }
 },
 "nbformat": 4,
 "nbformat_minor": 4
}
