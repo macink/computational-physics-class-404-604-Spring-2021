{
 "cells": [
  {
   "cell_type": "markdown",
   "metadata": {},
   "source": [
    "# Physics 404/604\n",
    "\n",
    "## Computational Physics (Spring 2018)\n",
    "\n",
    "## BPB-250, Mon./Wed. 2:30-3:45 pm\n",
    "\n",
    "| Instructor | Prof. Zhaohuan Zhu                 |\n",
    "| ---------- | :--------------------------------- |\n",
    "| Email      | zhaohuan.zhu@unlv.edu              |\n",
    "| Website    | http://www.physics.unlv.edu/~zhzhu |\n",
    "| Office     | BPB 245                            |"
   ]
  },
  {
   "cell_type": "markdown",
   "metadata": {},
   "source": [
    "# Nonlinear Population Dynamics\n",
    "\n",
    "Bug population dynamics.\n",
    "\\begin{equation}\n",
    "x_{i+1}=\\mu x_{i}(1-x_{i})\n",
    "\\end{equation}"
   ]
  },
  {
   "cell_type": "code",
   "execution_count": null,
   "metadata": {
    "scrolled": true
   },
   "outputs": [],
   "source": [
    "from vpython import *\n",
    "\n",
    "scene = canvas() # with this you don't need to restart kernel each time\n",
    "\n",
    "f1 = gcurve(color=color.cyan)\t# a graphics curve\n",
    "for x in arange(0, 8.05, 1.):\t# x goes from 0 to 8\n",
    "    f1.plot(pos=(x,5*cos(2*x)*exp(-0.2*x)))\t# plot\n",
    "\n",
    "f2 = gdots(color=color.red)\t# a graphics curve\n",
    "for x in arange(0, 8.05, 1.):\t# x goes from 0 to 8\n",
    "    f2.plot(pos=(x,5*cos(2*x)*exp(-0.2*x)))\t# plot"
   ]
  },
  {
   "cell_type": "code",
   "execution_count": 28,
   "metadata": {},
   "outputs": [
    {
     "data": {
      "image/png": "[encoded data removed]",
      "text/plain": [
       "<Figure size 432x288 with 1 Axes>"
      ]
     },
     "metadata": {
      "needs_background": "light"
     },
     "output_type": "display_data"
    },
    {
     "data": {
      "text/plain": [
       "'\\nx axis is the generation\\ny axis is population\\n'"
      ]
     },
     "execution_count": 28,
     "metadata": {},
     "output_type": "execute_result"
    }
   ],
   "source": [
    "import numpy as np\n",
    "import matplotlib.pyplot as plt\n",
    "\n",
    "iend=200\n",
    "xi=0.99\n",
    "mu=2.\n",
    "xiarr=np.zeros(iend)\n",
    "\n",
    "for i in range(iend):\n",
    "    xi=mu*xi*(1-xi)\n",
    "    xiarr[i]=xi\n",
    "    \n",
    "plt.plot(xiarr, '.')\n",
    "plt.show()\n",
    "\n",
    "'''\n",
    "x axis is the generation\n",
    "y axis is population\n",
    "'''"
   ]
  },
  {
   "cell_type": "code",
   "execution_count": 1,
   "metadata": {},
   "outputs": [
    {
     "data": {
      "text/html": [
       "<div id=\"glowscript\" class=\"glowscript\"></div>"
      ],
      "text/plain": [
       "<IPython.core.display.HTML object>"
      ]
     },
     "metadata": {},
     "output_type": "display_data"
    },
    {
     "data": {
      "application/javascript": [
       "if (typeof Jupyter !== \"undefined\") { window.__context = { glowscript_container: $(\"#glowscript\").removeAttr(\"id\")};}else{ element.textContent = ' ';}"
      ],
      "text/plain": [
       "<IPython.core.display.Javascript object>"
      ]
     },
     "metadata": {},
     "output_type": "display_data"
    },
    {
     "data": {
      "text/html": [
       "<div id=\"glowscript\" class=\"glowscript\"></div>"
      ],
      "text/plain": [
       "<IPython.core.display.HTML object>"
      ]
     },
     "metadata": {},
     "output_type": "display_data"
    },
    {
     "data": {
      "application/javascript": [
       "if (typeof Jupyter !== \"undefined\") { window.__context = { glowscript_container: $(\"#glowscript\").removeAttr(\"id\")};}else{ element.textContent = ' ';}"
      ],
      "text/plain": [
       "<IPython.core.display.Javascript object>"
      ]
     },
     "metadata": {},
     "output_type": "display_data"
    },
    {
     "data": {
      "application/javascript": [
       "if (typeof Jupyter !== \"undefined\") {require.undef(\"nbextensions/vpython_libraries/glow.min\");}else{element.textContent = ' ';}"
      ],
      "text/plain": [
       "<IPython.core.display.Javascript object>"
      ]
     },
     "metadata": {},
     "output_type": "display_data"
    },
    {
     "data": {
      "application/javascript": [
       "if (typeof Jupyter !== \"undefined\") {require.undef(\"nbextensions/vpython_libraries/glowcomm\");}else{element.textContent = ' ';}"
      ],
      "text/plain": [
       "<IPython.core.display.Javascript object>"
      ]
     },
     "metadata": {},
     "output_type": "display_data"
    },
    {
     "data": {
      "application/javascript": [
       "if (typeof Jupyter !== \"undefined\") {require.undef(\"nbextensions/vpython_libraries/jquery-ui.custom.min\");}else{element.textContent = ' ';}"
      ],
      "text/plain": [
       "<IPython.core.display.Javascript object>"
      ]
     },
     "metadata": {},
     "output_type": "display_data"
    },
    {
     "data": {
      "application/javascript": [
       "if (typeof Jupyter !== \"undefined\") {require([\"nbextensions/vpython_libraries/glow.min\"], function(){console.log(\"GLOW LOADED\");});}else{element.textContent = ' ';}"
      ],
      "text/plain": [
       "<IPython.core.display.Javascript object>"
      ]
     },
     "metadata": {},
     "output_type": "display_data"
    },
    {
     "data": {
      "application/javascript": [
       "if (typeof Jupyter !== \"undefined\") {require([\"nbextensions/vpython_libraries/glowcomm\"], function(){console.log(\"GLOWCOMM LOADED\");});}else{element.textContent = ' ';}"
      ],
      "text/plain": [
       "<IPython.core.display.Javascript object>"
      ]
     },
     "metadata": {},
     "output_type": "display_data"
    },
    {
     "data": {
      "application/javascript": [
       "if (typeof Jupyter !== \"undefined\") {require([\"nbextensions/vpython_libraries/jquery-ui.custom.min\"], function(){console.log(\"JQUERY LOADED\");});}else{element.textContent = ' ';}"
      ],
      "text/plain": [
       "<IPython.core.display.Javascript object>"
      ]
     },
     "metadata": {},
     "output_type": "display_data"
    }
   ],
   "source": [
    "from vpython import *\n",
    "\n",
    "scene = canvas() # with this you don't need to restart kernel each time\n",
    "#f2 = gcurve(color=color.cyan)\t# a graphics curve\n",
    "f2 = gdots(color=color.red)\t# a graphics curve\n",
    "\n",
    "iend=200\n",
    "xi=0.75\n",
    "mu=3.8\n",
    "f2.plot(pos=(0,xi))\n",
    "for i in range(iend):\t# x goes from 0 to 8\n",
    "    xi=mu*xi*(1-xi)\n",
    "    f2.plot(pos=(i,xi))\t# plot\n",
    "\n",
    "\n",
    "#f2 = gdots(color=color.blue)\t# a graphics curve\n",
    "#xi=0.75\n",
    "#mu=3.9+1.e-10\n",
    "#f2.plot(pos=(0,xi))\n",
    "#for i in range(iend):\t# x goes from 0 to 8\n",
    "#    xi=mu*xi*(1-xi)\n",
    "#    f2.plot(pos=(i,xi))\t# plot"
   ]
  },
  {
   "cell_type": "markdown",
   "metadata": {},
   "source": [
    "Stable Populations: \n",
    "\n",
    "We want to see if the model can produce a stable population, that is, one that remains the same from generation to generation.\n",
    "\n",
    "* Calculate and plot  x$_{i+1}$\n",
    "  as a function of the generation number  i\n",
    "\n",
    "* The initial population  x0\n",
    "  is called the seed, and we suggest  x0=0.75\n",
    "  as a good starting value (the dynamical effects are not sensitive to the seed).\n",
    "Your results should be highly sensitive to the value for the growth rate $\\mu$\n",
    " . Too large a value may lead to instabilities, while too small a value may lead to extinction. To make sure that the model is behaving reasonably, try some cases for which we can be fairly sure of what the results should be. By trying some negative and zero values for  $\\mu$\n",
    "  (for example, -1, -0.75, -0.5, -0.25, 0) we should obtain decaying populations.\n",
    "\n",
    "* Now that you have some confidence in the model, see if you can increase the population to some stable values. With the same initial population as before, try  $\\mu$\n",
    "  = 0, 0.5, 1.0, 1.5, 2. Make plots of  x$_i$\n",
    "  versus  i\n",
    "  for each of these cases.\n",
    "\n",
    "* Take note of the transient behavior in these plots that occur for early generations before a steady state or more regular behavior sets in. In general, these are not the long-term dynamical behaviors of interest.\n",
    "\n",
    "* For a fixed value of  $\\mu$\n",
    " , try different values for the seed population  x0\n",
    " . Verify that differing values of  x0\n",
    "  do affect the transients, but not the values of the stable populations.\n",
    "  \n",
    "\n",
    " \n",
    "* Confirm Feigenbaum’s observations of the different patterns shown in Figures 14.1 and 14.2 that occur for  $\\mu$=(0.4,2.4,3.2,3.6,3.8304)\n",
    "  and seed  x0=0.75\n",
    " . \n",
    " \n",
    "* Identify the following in your graphs:\n",
    "\n",
    "* Transients: Irregular behaviors before reaching a steady state that differ for different seeds.\n",
    "\n",
    "* Asymptotes: In some cases the steady state is reached after only 20 generations, while for larger $\\mu$\n",
    "  values, hundreds of generations may be needed. These steady-state populations are independent of the seed.\n",
    "\n",
    "* Extinction: If the growth rate is too low,  $\\mu\\leq$1\n",
    " , the population dies off.\n",
    " \n",
    "* Stable states: The stable single-population states attained for  $\\mu$<3\n",
    "  should agree with the prediction.\n",
    "\n",
    "* Multiple cycles: Examine the map orbits for a growth parameter $\\mu$\n",
    "  increasing continuously through 3. Observe how the system continues to double periods as $\\mu$\n",
    "  increases. To illustrate, in Figure 14.2C with  $\\mu$=3.5\n",
    " , we notice a steady state in which the population alternates among four attractors (a four-cycle).\n",
    "\n",
    "* Intermittency: Observe simulations for  3.8264<$\\mu$<3.8304\n",
    " . Here the system appears stable for a finite number of generations and then jumps all around, only to become stable again.\n",
    "\n",
    "* Chaos: We define chaos as the deterministic behavior of a system displaying no discernible regularity. This may seem contradictory; if a system is deterministic, it must have step-to-step correlations (which, when added up, mean long-range correlations); but if it is chaotic, the complexity of the behavior may hide the simplicity within. In an operational sense, a chaotic system is one with an extremely high sensitivity to parameters or initial conditions. This sensitivity to even minuscule changes is so high that it is impossible to predict the long-range behavior unless the parameters are known to infinite precision (a physical impossibility).\n",
    "\n",
    "* The system’s behavior in the chaotic region is critically dependent on the exact values of $\\mu$\n",
    "  and  x0\n",
    " . Systems starting out with nearly identical values for $\\mu$\n",
    "  and  x0\n",
    "  may end up with quite different behaviors. In some cases the complicated behaviors of nonlinear systems will be chaotic, but this is not the same as being random.\n",
    "  \n",
    "* Compare the long-term behaviors of starting with the two essentially identical seeds  x0=0.75\n",
    "  and  x0=0.75(1+$\\epsilon$)\n",
    " , where  $\\epsilon$$\\sim$10$^{−10}$ and $\\mu$=4\n",
    " .\n",
    " \n",
    "* Repeat the simulation with  x0=0.75\n",
    "  and two essentially identical survival parameters,  $\\mu$=4.0\n",
    "  and  μ′=4.0(1−$\\epsilon$)\n",
    " , where  $\\epsilon$$\\sim$10$^{−10}$\n",
    " . Both simulations should start off the same but eventually diverge."
   ]
  },
  {
   "cell_type": "markdown",
   "metadata": {},
   "source": [
    "## Bifurcation Diagram"
   ]
  },
  {
   "cell_type": "code",
   "execution_count": 29,
   "metadata": {},
   "outputs": [
    {
     "data": {
      "image/png": "[encoded data removed]",
      "text/plain": [
       "<Figure size 432x288 with 1 Axes>"
      ]
     },
     "metadata": {
      "needs_background": "light"
     },
     "output_type": "display_data"
    }
   ],
   "source": [
    "\n",
    "# Bugs.py, Noitebook Version, Logistic map\n",
    "\n",
    "from numpy import *\n",
    "import numpy as np\n",
    "import matplotlib.pyplot as plt\n",
    "\n",
    "m_min = 1.0\n",
    "m_max = 4.0\n",
    "step = 0.01\n",
    "lasty = int(1000 * 0.5)              # to eliminate later some points\n",
    "count = 0                            # to plot later every two iterations\n",
    "for m in arange(m_min, m_max, step):\n",
    "    y = 0.5\n",
    "    for i in range(1,201,1):         #to avoid transients\n",
    "        y = m*y*(1-y)   \n",
    "    for i in range(201, 402, 1):     # to avoid transients\n",
    "        oldy=int(1000*y)\n",
    "        y = m*y*(1-y)   \n",
    "        inty = int(1000 * y)\n",
    "        if  inty != lasty and count%2 == 0:\n",
    "            plt.plot(m,y,'bo',markersize=1)      # to avoid repeats\n",
    "        lasty = inty\n",
    "        count   += 1\n",
    "\n",
    "plt.show()"
   ]
  },
  {
   "cell_type": "code",
   "execution_count": 30,
   "metadata": {},
   "outputs": [
    {
     "data": {
      "text/plain": [
       "0.4794270198242342"
      ]
     },
     "execution_count": 30,
     "metadata": {},
     "output_type": "execute_result"
    }
   ],
   "source": [
    "mu=3.3\n",
    "(1+mu-sqrt(mu*mu-2.*mu-3))/2./mu"
   ]
  },
  {
   "cell_type": "code",
   "execution_count": 31,
   "metadata": {},
   "outputs": [
    {
     "data": {
      "image/png": "[encoded data removed]",
      "text/plain": [
       "<Figure size 432x288 with 1 Axes>"
      ]
     },
     "metadata": {
      "needs_background": "light"
     },
     "output_type": "display_data"
    }
   ],
   "source": [
    "\n",
    "# Bugs.py, Notebook Version, Logistic map\n",
    "\n",
    "from numpy import *\n",
    "import numpy as np\n",
    "import matplotlib.pyplot as plt\n",
    "\n",
    "m_min = 3.3\n",
    "m_max = 3.99\n",
    "step = (m_max-m_min)/100.\n",
    "lasty = int(1000 * 0.5)              # to eliminate later some points\n",
    "count = 0                            # to plot later every two iterations\n",
    "for m in arange(m_min, m_max, step):\n",
    "    y = 0.75\n",
    "    for i in range(1,201,1):         #to avoid transients\n",
    "        y = m*y*(1-y)   \n",
    "    for i in range(201,402,1):\n",
    "        y = m*y*(1- y) \n",
    "    for i in range(201, 402, 1):     # to avoid transients\n",
    "        oldy=int(1000*y)\n",
    "        y = m*y*(1-y)   \n",
    "        inty = int(1000 * y)\n",
    "        if  inty != lasty and count%2 == 0:\n",
    "            plt.plot(m,y,'bo',markersize=1)      # to avoid repeats\n",
    "        lasty = inty\n",
    "        count   += 1\n",
    "\n",
    "plt.xlim(3.3,4.0)\n",
    "plt.ylim(0.3,1.0)\n",
    "plt.show()"
   ]
  },
  {
   "cell_type": "markdown",
   "metadata": {},
   "source": [
    "* Look over the series of bifurcations occurring at\n",
    "$\\mu_{k}\\sim$3,3.449,3.544,3.5644,3.5688,3.569692,3.56989,….\n",
    "The end of this series is a region of chaotic behavior.\n",
    "\n",
    "* A close examination of Figure 14.3 shows regions where, for a slight increase in $\\mu$\n",
    " , a very large number of populations suddenly change to very few populations. Whereas these may appear to be artifacts of the video display, this is a real effect and these regions are called windows. Check that at  $\\mu$=3.828427\n",
    "  chaos moves into a three-cycle population.\n",
    "  \n",
    "This is called Feigenbaum Constants\n",
    "\\begin{equation}\n",
    "\\mu_{k}->\\mu_{\\infty}-\\frac{c}{\\delta^k}\n",
    "\\end{equation}\n",
    "$\\mu_{\\infty}\\sim 3.56995$, $c\\sim2.637$, $\\delta\\sim4.6692$"
   ]
  },
  {
   "cell_type": "markdown",
   "metadata": {},
   "source": [
    "## Signals of Chaos: Lyapunov Coefficient & Shannon Entropy"
   ]
  },
  {
   "cell_type": "markdown",
   "metadata": {},
   "source": [
    "Suppose we purturbe the starting position at time $t$ near an attractor. If the distance grows exponentially, it is chaotic. \n",
    "\n",
    "For 1-D map $x_{n+1}=f(x_{n})$, let's only look at one iteration\n",
    "\\begin{equation}\n",
    "x_{0}'=x_{0}+\\delta x_{0},\\quad x_{1}'=x_{1}+\\delta x_{1}\n",
    "\\end{equation}\n",
    "With Taylor series around $x_{0}$, we have\n",
    "\\begin{equation}\n",
    "x_{1}+\\delta x_{1}=f(x_{0}+\\delta x_{0})\\sim f(x_{0})+\\frac{\\partial f}{\\partial x}|_{x_{0}}\\delta x_{0}=x_{1}+\\frac{\\partial f}{\\partial x}|_{x_{0}}\\delta x_{0}\n",
    "\\end{equation}\n",
    "So $\\delta x_{1}\\sim(\\frac{\\partial f}{\\partial x})_{x_{0}}\\delta x_{0}$.\n",
    "\n",
    "After n steps:\n",
    "\\begin{equation}\n",
    "|\\delta x_n| =L^n |\\delta x_0|,\\quad L^n =\\prod_{i=0}^{n-1}\\left|\\left(\\frac{\\delta f}{\\delta x}\\right)_{x_{i}}\\right|\n",
    "\\end{equation}\n",
    "\n",
    "The L is called the Lyapunov number, and the Lyapunov coefficient is :\n",
    "\\begin{equation}\n",
    "\\lambda=ln(L)=lim_{n->\\infty}\\frac{1}{n}\\sum_{i=0}^{n-1}ln\\left|\\left(\\frac{\\delta f}{\\delta x}\\right)_{x_{i}}\\right|\n",
    "\\end{equation}\n",
    "\n",
    "For our problem, we have\n",
    "\\begin{equation}\n",
    "\\lambda=\\frac{1}{n}\\sum_{i=0}^{n-1}ln\\left|\\mu-2\\mu x_{i}\\right|\n",
    "\\end{equation}"
   ]
  },
  {
   "cell_type": "code",
   "execution_count": 34,
   "metadata": {
    "scrolled": true
   },
   "outputs": [
    {
     "data": {
      "image/png": "[encoded data removed]",
      "text/plain": [
       "<Figure size 432x288 with 1 Axes>"
      ]
     },
     "metadata": {
      "needs_background": "light"
     },
     "output_type": "display_data"
    }
   ],
   "source": [
    "\n",
    "# LyapLog.py, Notebook Version, Lyapunov coef for logistic map\n",
    "from IPython.display import IFrame\n",
    "from numpy import *\n",
    "import numpy as np\n",
    "import matplotlib.pyplot as plt\n",
    "\n",
    "m_min = 2.1\n",
    "m_max = 4.0\n",
    "step = 0.05\n",
    "yy=[]\n",
    "xx=[]\n",
    "\n",
    "for m in arange(m_min, m_max, step):                                         # m loop\n",
    "    y = 0.5\n",
    "    suma = 0.0\n",
    "    for i in range(1, 401, 1):   \n",
    "        y = m*y*(1 - y)     # Skip transients     \n",
    "    for i in range(402, 601, 1):\n",
    "        y = m*y*(1 - y)\n",
    "        plt.plot(m, y ,'ro',markersize=1)\n",
    "        suma = suma  +  log(abs(m*(1. - 2.*y) ))     # Lyapunov\n",
    "    suma=suma/401\n",
    "    xx=xx+[m]\n",
    "    yy=yy+[suma]\n",
    "    plt.plot(xx, yy)                    # Normalize\n",
    "    \n",
    "plt.show() "
   ]
  },
  {
   "cell_type": "markdown",
   "metadata": {},
   "source": [
    "Shannon entropy, like the Lyapunov exponent, is used an indicator of chaos.Entropy is a measure of uncertainty (garbled signal) that has proven useful in communication theory. Imagine that an experiment has  N\n",
    "  possible outcomes. If the probability of each is  $p_1$,$p_2$,…,$p_N$\n",
    " , with normalization such that  $\\sum p_{i}=1$\n",
    " , then the Shannon entropy is defined as\n",
    "\\begin{equation}\n",
    "S_{Shannon}=-\\sum_{i=1}^{N}p_{i}ln p_{i}\n",
    "\\end{equation}"
   ]
  },
  {
   "cell_type": "code",
   "execution_count": 33,
   "metadata": {},
   "outputs": [
    {
     "name": "stdout",
     "output_type": "stream",
     "text": [
      "waiting until mu=4 before plotting  2.7\n",
      "waiting until mu=4 before plotting  2.705\n",
      "waiting until mu=4 before plotting  2.71\n",
      "waiting until mu=4 before plotting  2.715\n",
      "waiting until mu=4 before plotting  2.7199999999999998\n",
      "waiting until mu=4 before plotting  2.7249999999999996\n",
      "waiting until mu=4 before plotting  2.7299999999999995\n",
      "waiting until mu=4 before plotting  2.7349999999999994\n",
      "waiting until mu=4 before plotting  2.7399999999999993\n",
      "waiting until mu=4 before plotting  2.744999999999999\n",
      "waiting until mu=4 before plotting  2.749999999999999\n",
      "waiting until mu=4 before plotting  2.754999999999999\n",
      "waiting until mu=4 before plotting  2.759999999999999\n",
      "waiting until mu=4 before plotting  2.764999999999999\n",
      "waiting until mu=4 before plotting  2.7699999999999987\n",
      "waiting until mu=4 before plotting  2.7749999999999986\n",
      "waiting until mu=4 before plotting  2.7799999999999985\n",
      "waiting until mu=4 before plotting  2.7849999999999984\n",
      "waiting until mu=4 before plotting  2.7899999999999983\n",
      "waiting until mu=4 before plotting  2.794999999999998\n",
      "waiting until mu=4 before plotting  2.799999999999998\n",
      "waiting until mu=4 before plotting  2.804999999999998\n",
      "waiting until mu=4 before plotting  2.809999999999998\n",
      "waiting until mu=4 before plotting  2.8149999999999977\n",
      "waiting until mu=4 before plotting  2.8199999999999976\n",
      "waiting until mu=4 before plotting  2.8249999999999975\n",
      "waiting until mu=4 before plotting  2.8299999999999974\n",
      "waiting until mu=4 before plotting  2.8349999999999973\n",
      "waiting until mu=4 before plotting  2.839999999999997\n",
      "waiting until mu=4 before plotting  2.844999999999997\n",
      "waiting until mu=4 before plotting  2.849999999999997\n",
      "waiting until mu=4 before plotting  2.854999999999997\n",
      "waiting until mu=4 before plotting  2.8599999999999968\n",
      "waiting until mu=4 before plotting  2.8649999999999967\n",
      "waiting until mu=4 before plotting  2.8699999999999966\n",
      "waiting until mu=4 before plotting  2.8749999999999964\n",
      "waiting until mu=4 before plotting  2.8799999999999963\n",
      "waiting until mu=4 before plotting  2.8849999999999962\n",
      "waiting until mu=4 before plotting  2.889999999999996\n",
      "waiting until mu=4 before plotting  2.894999999999996\n",
      "waiting until mu=4 before plotting  2.899999999999996\n",
      "waiting until mu=4 before plotting  2.904999999999996\n",
      "waiting until mu=4 before plotting  2.9099999999999957\n",
      "waiting until mu=4 before plotting  2.9149999999999956\n",
      "waiting until mu=4 before plotting  2.9199999999999955\n",
      "waiting until mu=4 before plotting  2.9249999999999954\n",
      "waiting until mu=4 before plotting  2.9299999999999953\n",
      "waiting until mu=4 before plotting  2.934999999999995\n",
      "waiting until mu=4 before plotting  2.939999999999995\n",
      "waiting until mu=4 before plotting  2.944999999999995\n",
      "waiting until mu=4 before plotting  2.949999999999995\n",
      "waiting until mu=4 before plotting  2.9549999999999947\n",
      "waiting until mu=4 before plotting  2.9599999999999946\n",
      "waiting until mu=4 before plotting  2.9649999999999945\n",
      "waiting until mu=4 before plotting  2.9699999999999944\n",
      "waiting until mu=4 before plotting  2.9749999999999943\n",
      "waiting until mu=4 before plotting  2.979999999999994\n",
      "waiting until mu=4 before plotting  2.984999999999994\n",
      "waiting until mu=4 before plotting  2.989999999999994\n",
      "waiting until mu=4 before plotting  2.994999999999994\n",
      "waiting until mu=4 before plotting  2.999999999999994\n",
      "waiting until mu=4 before plotting  3.0049999999999937\n",
      "waiting until mu=4 before plotting  3.0099999999999936\n",
      "waiting until mu=4 before plotting  3.0149999999999935\n",
      "waiting until mu=4 before plotting  3.0199999999999934\n",
      "waiting until mu=4 before plotting  3.0249999999999932\n",
      "waiting until mu=4 before plotting  3.029999999999993\n",
      "waiting until mu=4 before plotting  3.034999999999993\n",
      "waiting until mu=4 before plotting  3.039999999999993\n",
      "waiting until mu=4 before plotting  3.044999999999993\n",
      "waiting until mu=4 before plotting  3.0499999999999927\n",
      "waiting until mu=4 before plotting  3.0549999999999926\n",
      "waiting until mu=4 before plotting  3.0599999999999925\n",
      "waiting until mu=4 before plotting  3.0649999999999924\n",
      "waiting until mu=4 before plotting  3.0699999999999923\n",
      "waiting until mu=4 before plotting  3.074999999999992\n",
      "waiting until mu=4 before plotting  3.079999999999992\n",
      "waiting until mu=4 before plotting  3.084999999999992\n",
      "waiting until mu=4 before plotting  3.089999999999992\n",
      "waiting until mu=4 before plotting  3.0949999999999918\n",
      "waiting until mu=4 before plotting  3.0999999999999917\n",
      "waiting until mu=4 before plotting  3.1049999999999915\n",
      "waiting until mu=4 before plotting  3.1099999999999914\n",
      "waiting until mu=4 before plotting  3.1149999999999913\n",
      "waiting until mu=4 before plotting  3.1199999999999912\n",
      "waiting until mu=4 before plotting  3.124999999999991\n",
      "waiting until mu=4 before plotting  3.129999999999991\n",
      "waiting until mu=4 before plotting  3.134999999999991\n",
      "waiting until mu=4 before plotting  3.139999999999991\n",
      "waiting until mu=4 before plotting  3.1449999999999907\n",
      "waiting until mu=4 before plotting  3.1499999999999906\n",
      "waiting until mu=4 before plotting  3.1549999999999905\n",
      "waiting until mu=4 before plotting  3.1599999999999904\n",
      "waiting until mu=4 before plotting  3.1649999999999903\n",
      "waiting until mu=4 before plotting  3.16999999999999\n",
      "waiting until mu=4 before plotting  3.17499999999999\n",
      "waiting until mu=4 before plotting  3.17999999999999\n",
      "waiting until mu=4 before plotting  3.18499999999999\n",
      "waiting until mu=4 before plotting  3.1899999999999897\n",
      "waiting until mu=4 before plotting  3.1949999999999896\n",
      "waiting until mu=4 before plotting  3.1999999999999895\n",
      "waiting until mu=4 before plotting  3.2049999999999894\n",
      "waiting until mu=4 before plotting  3.2099999999999893\n",
      "waiting until mu=4 before plotting  3.214999999999989\n",
      "waiting until mu=4 before plotting  3.219999999999989\n",
      "waiting until mu=4 before plotting  3.224999999999989\n",
      "waiting until mu=4 before plotting  3.229999999999989\n",
      "waiting until mu=4 before plotting  3.2349999999999888\n",
      "waiting until mu=4 before plotting  3.2399999999999887\n",
      "waiting until mu=4 before plotting  3.2449999999999886\n",
      "waiting until mu=4 before plotting  3.2499999999999885\n",
      "waiting until mu=4 before plotting  3.2549999999999883\n",
      "waiting until mu=4 before plotting  3.2599999999999882\n",
      "waiting until mu=4 before plotting  3.264999999999988\n",
      "waiting until mu=4 before plotting  3.269999999999988\n",
      "waiting until mu=4 before plotting  3.274999999999988\n",
      "waiting until mu=4 before plotting  3.279999999999988\n",
      "waiting until mu=4 before plotting  3.2849999999999877\n",
      "waiting until mu=4 before plotting  3.2899999999999876\n",
      "waiting until mu=4 before plotting  3.2949999999999875\n",
      "waiting until mu=4 before plotting  3.2999999999999874\n",
      "waiting until mu=4 before plotting  3.3049999999999873\n",
      "waiting until mu=4 before plotting  3.309999999999987\n",
      "waiting until mu=4 before plotting  3.314999999999987\n",
      "waiting until mu=4 before plotting  3.319999999999987\n",
      "waiting until mu=4 before plotting  3.324999999999987\n",
      "waiting until mu=4 before plotting  3.3299999999999867\n",
      "waiting until mu=4 before plotting  3.3349999999999866\n",
      "waiting until mu=4 before plotting  3.3399999999999865\n",
      "waiting until mu=4 before plotting  3.3449999999999864\n",
      "waiting until mu=4 before plotting  3.3499999999999863\n",
      "waiting until mu=4 before plotting  3.354999999999986\n",
      "waiting until mu=4 before plotting  3.359999999999986\n",
      "waiting until mu=4 before plotting  3.364999999999986\n",
      "waiting until mu=4 before plotting  3.369999999999986\n",
      "waiting until mu=4 before plotting  3.374999999999986\n",
      "waiting until mu=4 before plotting  3.3799999999999857\n",
      "waiting until mu=4 before plotting  3.3849999999999856\n",
      "waiting until mu=4 before plotting  3.3899999999999855\n",
      "waiting until mu=4 before plotting  3.3949999999999854\n",
      "waiting until mu=4 before plotting  3.3999999999999853\n",
      "waiting until mu=4 before plotting  3.404999999999985\n",
      "waiting until mu=4 before plotting  3.409999999999985\n",
      "waiting until mu=4 before plotting  3.414999999999985\n",
      "waiting until mu=4 before plotting  3.419999999999985\n",
      "waiting until mu=4 before plotting  3.4249999999999847\n",
      "waiting until mu=4 before plotting  3.4299999999999846\n",
      "waiting until mu=4 before plotting  3.4349999999999845\n",
      "waiting until mu=4 before plotting  3.4399999999999844\n",
      "waiting until mu=4 before plotting  3.4449999999999843\n",
      "waiting until mu=4 before plotting  3.449999999999984\n",
      "waiting until mu=4 before plotting  3.454999999999984\n",
      "waiting until mu=4 before plotting  3.459999999999984\n"
     ]
    },
    {
     "name": "stdout",
     "output_type": "stream",
     "text": [
      "waiting until mu=4 before plotting  3.464999999999984\n",
      "waiting until mu=4 before plotting  3.4699999999999838\n",
      "waiting until mu=4 before plotting  3.4749999999999837\n",
      "waiting until mu=4 before plotting  3.4799999999999836\n",
      "waiting until mu=4 before plotting  3.4849999999999834\n",
      "waiting until mu=4 before plotting  3.4899999999999833\n",
      "waiting until mu=4 before plotting  3.4949999999999832\n",
      "waiting until mu=4 before plotting  3.499999999999983\n",
      "waiting until mu=4 before plotting  3.504999999999983\n",
      "waiting until mu=4 before plotting  3.509999999999983\n",
      "waiting until mu=4 before plotting  3.514999999999983\n",
      "waiting until mu=4 before plotting  3.5199999999999827\n",
      "waiting until mu=4 before plotting  3.5249999999999826\n",
      "waiting until mu=4 before plotting  3.5299999999999825\n",
      "waiting until mu=4 before plotting  3.5349999999999824\n",
      "waiting until mu=4 before plotting  3.5399999999999823\n",
      "waiting until mu=4 before plotting  3.544999999999982\n",
      "waiting until mu=4 before plotting  3.549999999999982\n",
      "waiting until mu=4 before plotting  3.554999999999982\n",
      "waiting until mu=4 before plotting  3.559999999999982\n",
      "waiting until mu=4 before plotting  3.5649999999999817\n",
      "waiting until mu=4 before plotting  3.5699999999999816\n",
      "waiting until mu=4 before plotting  3.5749999999999815\n",
      "waiting until mu=4 before plotting  3.5799999999999814\n",
      "waiting until mu=4 before plotting  3.5849999999999813\n",
      "waiting until mu=4 before plotting  3.589999999999981\n",
      "waiting until mu=4 before plotting  3.594999999999981\n",
      "waiting until mu=4 before plotting  3.599999999999981\n",
      "waiting until mu=4 before plotting  3.604999999999981\n",
      "waiting until mu=4 before plotting  3.609999999999981\n",
      "waiting until mu=4 before plotting  3.6149999999999807\n",
      "waiting until mu=4 before plotting  3.6199999999999806\n",
      "waiting until mu=4 before plotting  3.6249999999999805\n",
      "waiting until mu=4 before plotting  3.6299999999999804\n",
      "waiting until mu=4 before plotting  3.6349999999999802\n",
      "waiting until mu=4 before plotting  3.63999999999998\n",
      "waiting until mu=4 before plotting  3.64499999999998\n",
      "waiting until mu=4 before plotting  3.64999999999998\n",
      "waiting until mu=4 before plotting  3.65499999999998\n",
      "waiting until mu=4 before plotting  3.6599999999999797\n",
      "waiting until mu=4 before plotting  3.6649999999999796\n",
      "waiting until mu=4 before plotting  3.6699999999999795\n",
      "waiting until mu=4 before plotting  3.6749999999999794\n",
      "waiting until mu=4 before plotting  3.6799999999999793\n",
      "waiting until mu=4 before plotting  3.684999999999979\n",
      "waiting until mu=4 before plotting  3.689999999999979\n",
      "waiting until mu=4 before plotting  3.694999999999979\n",
      "waiting until mu=4 before plotting  3.699999999999979\n",
      "waiting until mu=4 before plotting  3.7049999999999788\n",
      "waiting until mu=4 before plotting  3.7099999999999786\n",
      "waiting until mu=4 before plotting  3.7149999999999785\n",
      "waiting until mu=4 before plotting  3.7199999999999784\n",
      "waiting until mu=4 before plotting  3.7249999999999783\n",
      "waiting until mu=4 before plotting  3.729999999999978\n",
      "waiting until mu=4 before plotting  3.734999999999978\n",
      "waiting until mu=4 before plotting  3.739999999999978\n",
      "waiting until mu=4 before plotting  3.744999999999978\n",
      "waiting until mu=4 before plotting  3.749999999999978\n",
      "waiting until mu=4 before plotting  3.7549999999999777\n",
      "waiting until mu=4 before plotting  3.7599999999999776\n",
      "waiting until mu=4 before plotting  3.7649999999999775\n",
      "waiting until mu=4 before plotting  3.7699999999999774\n",
      "waiting until mu=4 before plotting  3.7749999999999773\n",
      "waiting until mu=4 before plotting  3.779999999999977\n",
      "waiting until mu=4 before plotting  3.784999999999977\n",
      "waiting until mu=4 before plotting  3.789999999999977\n",
      "waiting until mu=4 before plotting  3.794999999999977\n",
      "waiting until mu=4 before plotting  3.7999999999999767\n",
      "waiting until mu=4 before plotting  3.8049999999999766\n",
      "waiting until mu=4 before plotting  3.8099999999999765\n",
      "waiting until mu=4 before plotting  3.8149999999999764\n",
      "waiting until mu=4 before plotting  3.8199999999999763\n",
      "waiting until mu=4 before plotting  3.824999999999976\n",
      "waiting until mu=4 before plotting  3.829999999999976\n",
      "waiting until mu=4 before plotting  3.834999999999976\n",
      "waiting until mu=4 before plotting  3.839999999999976\n",
      "waiting until mu=4 before plotting  3.8449999999999758\n",
      "waiting until mu=4 before plotting  3.8499999999999757\n",
      "waiting until mu=4 before plotting  3.8549999999999756\n",
      "waiting until mu=4 before plotting  3.8599999999999755\n",
      "waiting until mu=4 before plotting  3.8649999999999753\n",
      "waiting until mu=4 before plotting  3.8699999999999752\n",
      "waiting until mu=4 before plotting  3.874999999999975\n",
      "waiting until mu=4 before plotting  3.879999999999975\n",
      "waiting until mu=4 before plotting  3.884999999999975\n",
      "waiting until mu=4 before plotting  3.889999999999975\n",
      "waiting until mu=4 before plotting  3.8949999999999747\n",
      "waiting until mu=4 before plotting  3.8999999999999746\n",
      "waiting until mu=4 before plotting  3.9049999999999745\n",
      "waiting until mu=4 before plotting  3.9099999999999744\n",
      "waiting until mu=4 before plotting  3.9149999999999743\n",
      "waiting until mu=4 before plotting  3.919999999999974\n",
      "waiting until mu=4 before plotting  3.924999999999974\n",
      "waiting until mu=4 before plotting  3.929999999999974\n",
      "waiting until mu=4 before plotting  3.934999999999974\n",
      "waiting until mu=4 before plotting  3.9399999999999737\n",
      "waiting until mu=4 before plotting  3.9449999999999736\n",
      "waiting until mu=4 before plotting  3.9499999999999735\n",
      "waiting until mu=4 before plotting  3.9549999999999734\n",
      "waiting until mu=4 before plotting  3.9599999999999733\n",
      "waiting until mu=4 before plotting  3.964999999999973\n",
      "waiting until mu=4 before plotting  3.969999999999973\n",
      "waiting until mu=4 before plotting  3.974999999999973\n",
      "waiting until mu=4 before plotting  3.979999999999973\n",
      "waiting until mu=4 before plotting  3.984999999999973\n",
      "waiting until mu=4 before plotting  3.9899999999999727\n",
      "waiting until mu=4 before plotting  3.9949999999999726\n",
      "[   0.    0.    0.    0.    0.   89.  666.  325.  232.  202.  200.  163.\n",
      "  142.  152.  146.  124.  109.  126.  107.  107.  262.  363.  256.  195.\n",
      "  174.  170.  154.  155.  161.  150.  133.  124.  122.  117.  143.  131.\n",
      "  122.  102.  121.  113.  115.  101.  116.  106.   80.  103.   97.  101.\n",
      "   90.  107.  104.   97.   95.   90.  100.   86.   81.   87.  100.   85.\n",
      "   79.   88.   84.   74.   93.   89.   83.   72.   76.   62.   80.   78.\n",
      "   89.   75.   79.   71.   71.   74.  186.  191.  139.  130.  106.  126.\n",
      "  112.  107.   93.   88.  107.  101.   82.   93.   86.   88.   73.   95.\n",
      "   88.   86.   77.   81.   83.   77.   96.   91.   74.   88.   81.   77.\n",
      "   76.   76.   76.   84.   79.   75.   75.   64.   88.   78.   74.   69.\n",
      "   75.   66.   71.   71.   83.   63.   74.   77.   62.   79.   64.   82.\n",
      "   80.   73.   69.   62.   61.   69.   61.   76.   73.   63.   61.   60.\n",
      "   55.   72.   61.   68.   57.   71.   71.   82.   60.   87.   68.   60.\n",
      "   65.   79.   99.   68.   53.   63.   55.   52.   58.   55.   61.   64.\n",
      "   46.   61.   50.   62.   48.   51.   55.   72.   51.   61.   60.   63.\n",
      "   64.   57.   53.   61.   53.   61.   60.   69.   66.   46.   62.   46.\n",
      "   53.   47.   59.   56.   51.   55.   60.   60.   49.   52.   59.   64.\n",
      "   50.   43.   58.   60.   41.   53.   42.   43.   63.   41.   48.   51.\n",
      "   53.   60.   50.   59.   56.   57.   57.   48.   43.   51.   48.   62.\n",
      "   57.   46.   61.   56.   41.   42.   46.   43.   51.   47.   58.   38.\n",
      "   56.   40.   58.   52.   65.   48.   62.   46.   43.   43.   38.   45.\n",
      "   45.   51.   41.   39.   39.   48.   42.   43.   51.   43.   61.   62.\n",
      "   51.   63.   43.   50.   54.   54.   53.   44.   51.   56.   42.   48.\n",
      "   56.   53.   55.   50.   45.   46.   52.   35.   46.   46.   52.  150.\n",
      "   80.   87.   87.   81.   73.   63.   47.   69.   62.   67.   61.   55.\n",
      "   55.   53.   64.   63.   59.   55.   60.   64.   48.   60.   67.   55.\n",
      "   57.   44.   78.   59.   55.   38.   56.   54.   55.   42.   57.   56.\n",
      "   60.   44.   58.   47.   45.   55.   49.   55.   47.   50.   42.   51.\n",
      "   46.   65.   51.   42.   45.   53.   56.   48.   45.   49.   50.   38.\n",
      "   50.   59.   52.   41.   59.   45.   46.   50.   49.   43.   49.   46.\n",
      "   45.   58.   46.   51.   49.   63.   55.   59.   56.   56.   49.   44.\n",
      "   39.   54.   55.   41.   41.   34.   53.   48.   47.   58.   41.   47.\n",
      "   49.   45.   46.   55.   44.   58.   39.   43.   47.   48.   66.   48.\n",
      "   40.   47.   52.   46.   43.   56.   56.   46.   35.   37.   36.   55.\n",
      "   49.   51.   50.   32.   56.   47.   53.   45.   43.   41.   45.   43.\n",
      "   42.   45.   54.   42.   47.   40.   47.   41.   54.   38.   45.   61.\n",
      "   56.   56.   46.   42.   43.   42.   43.   58.   48.   52.   55.   56.\n",
      "   46.   45.   42.   50.   55.   65.   37.   39.   34.   60.   53.   52.\n",
      "   38.   53.   55.   60.   47.   41.   54.   47.   44.   47.   52.   47.\n",
      "   40.   38.   40.   48.   49.   42.   45.   47.   45.   56.   52.   51.\n",
      "   44.   53.   49.   50.   50.   41.   42.   47.   41.   43.   54.   43.\n",
      "   45.   35.   44.   55.   50.   47.   57.   50.   50.   51.   38.   49.\n",
      "   42.   52.   45.   45.   48.   50.   45.   60.   60.   43.   49.   50.\n",
      "   59.   54.   54.   45.   49.   41.   52.   53.   47.   56.   42.   56.\n",
      "   57.   51.   59.   61.   60.   45.   49.   42.   45.   44.   39.   47.\n",
      "   64.   29.   40.   48.   54.   39.   45.   47.   47.   51.   41.   53.\n",
      "   44.   48.   50.   54.   44.   50.   49.   42.   58.   42.   55.   45.\n",
      "   38.   55.   60.   51.   37.   30.   40.   44.   47.   50.   45.   52.\n",
      "   55.   51.   45.   56.   65.   48.   50.   45.   50.   60.   60.   51.\n",
      "   58.   54.   54.   52.   47.   38.   57.   51.   51.   59.   66.   71.\n",
      "   81.   59.   43.   47.   43.   36.   46.   42.   51.   60.   46.   45.\n",
      "   27.   48.   36.   52.   40.   28.   43.   45.   53.   44.   44.   52.\n",
      "   46.   46.   35.   49.   45.   39.   38.   33.   56.   40.   48.   46.\n",
      "   49.   47.   42.   46.   49.   38.   45.   46.   51.   57.   63.   40.\n",
      "   42.   40.   44.   33.   45.   38.   45.   49.   47.   36.   50.   57.\n",
      "   41.   46.   33.   44.   36.   46.   44.   56.   50.   28.   38.   42.\n",
      "   38.   43.   50.   56.   39.   48.   57.   50.   53.   46.   53.   51.\n",
      "   46.   44.   46.   41.   49.   48.   42.   63.   37.   44.   48.   56.\n",
      "   44.   51.   49.   35.   60.   44.   43.   55.   53.   55.   57.   50.\n",
      "   49.   50.   44.   38.   43.   47.   48.   36.   45.   41.   47.   55.\n",
      "   51.   37.   45.   45.   47.   49.   38.   43.   56.   43.   46.   28.\n",
      "   51.   61.   41.   37.   55.   54.   31.   60.   44.   49.   54.   48.\n",
      "   40.   44.   45.   46.   39.   44.   50.   45.   48.   43.   55.   34.\n",
      "   41.   47.   42.   43.   45.   44.   39.   46.   40.   66.   49.   36.\n",
      "   58.   48.   50.   50.   67.   56.   50.   46.   53.   68.   62.   40.\n",
      "   48.   48.   53.   57.   64.   58.   52.   39.   46.   55.   51.   48.\n",
      "   62.   63.   49.   41.   49.   45.   73.   61.   46.   57.   53.   51.\n",
      "   50.   48.   50.   56.   68.   58.   46.   52.   46.   57.   52.   47.\n",
      "   74.  122.   87.   71.   68.   82.   74.   74.   74.   84.   65.   73.\n",
      "   59.   53.   83.   72.   68.   76.   68.   71.   80.   60.   72.   52.\n",
      "   70.   63.   60.   73.   70.   64.   80.   57.   76.   69.   76.   60.\n",
      "   64.   61.   80.   82.   65.   63.   68.   64.   82.   70.   73.   68.\n",
      "   65.   61.   73.   69.   79.   65.   74.   51.   85.   75.   82.   76.\n",
      "   63.   78.   71.   70.   67.   64.   65.   70.   61.   69.   56.   78.\n",
      "   66.   74.   78.   70.   75.   70.   82.   49.   71.   66.   89.   85.\n",
      "   76.   68.   70.   81.   80.   68.   74.   72.   84.   73.   74.   74.\n",
      "   84.   71.   78.   98.   92.   84.   84.   78.   86.   79.   85.   92.\n",
      "   81.   87.  103.   97.  100.   89.  113.   73.   79.   87.   74.  114.\n",
      "   88.   79.   91.   92.  100.   88.  119.   94.   96.   81.   93.  100.\n",
      "  111.  100.   90.  108.  113.  114.  119.  105.  104.  122.  107.  142.\n",
      "  151.  164.  125.  113.  138.  120.  137.  125.  157.  143.  156.  154.\n",
      "  137.  137.  169.  156.  158.  154.  169.  157.  164.  172.  194.  174.\n",
      "  204.  205.  214.  215.  239.  234.  241.  253.  306.  295.  307.  367.\n",
      "  449.  522.  711. 1306.] 100000\n"
     ]
    },
    {
     "data": {
      "image/png": "[encoded data removed]",
      "text/plain": [
       "<Figure size 432x288 with 1 Axes>"
      ]
     },
     "metadata": {
      "needs_background": "light"
     },
     "output_type": "display_data"
    }
   ],
   "source": [
    "\n",
    "# Entropy.py, Notebook Version, Shannon Entropy for Logistic map\n",
    "\n",
    "from IPython.display import IFrame\n",
    "from numpy import *\n",
    "import numpy as np\n",
    "import matplotlib.pyplot as plt\n",
    "\n",
    "mumin = 2.7\n",
    "mumax = 4.0\n",
    "dmu = 0.005\n",
    "nbin = 1000\n",
    "nstart=30000\n",
    "nmax = 100000\n",
    "prob = zeros( (1000), float)                \n",
    "xx=[]\n",
    "yy=[]\n",
    "# first coord. mu0, entr0\n",
    "for mu in arange(mumin, mumax, dmu):                                        # mu loop\n",
    "    print(\"waiting until mu=4 before plotting \",mu)\n",
    "    for j in range(1, nbin):\n",
    "        prob[j] = 0\n",
    "    y  = 0.5\n",
    "    for n in range(1, nmax + 1):\n",
    "        y = mu*y*(1.0 - y) # Logistic map, Skip transients\n",
    "        if (n > nstart):\n",
    "            ibin = int(y*nbin)  +  1\n",
    "            prob[ibin]  +=  1\n",
    "    entropy = 0.\n",
    "    for ibin in range(1, nbin):\n",
    "        if (prob[ibin]>0):\n",
    "            entropy = entropy - (prob[ibin]/(nmax-nstart))*math.log10(prob[ibin]/(nmax-nstart))\n",
    "    yy=yy+[entropy]    \n",
    "    xx=xx+[mu]\n",
    "        \n",
    "plt.plot(xx,yy) \n",
    "print(prob,nmax)\n",
    "plt.title(\"Entropy vs $\\mu$\")\n",
    "plt.xlabel('$\\mu$')\n",
    "plt.show()     "
   ]
  },
  {
   "cell_type": "code",
   "execution_count": null,
   "metadata": {},
   "outputs": [],
   "source": []
  }
 ],
 "metadata": {
  "kernelspec": {
   "display_name": "Python 3",
   "language": "python",
   "name": "python3"
  },
  "language_info": {
   "codemirror_mode": {
    "name": "ipython",
    "version": 3
   },
   "file_extension": ".py",
   "mimetype": "text/x-python",
   "name": "python",
   "nbconvert_exporter": "python",
   "pygments_lexer": "ipython3",
   "version": "3.8.3"
  }
 },
 "nbformat": 4,
 "nbformat_minor": 2
}
